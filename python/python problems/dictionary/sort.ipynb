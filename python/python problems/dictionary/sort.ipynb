{
  "cells": [
    {
      "cell_type": "markdown",
      "metadata": {},
      "source": [
        "### Challenge\n",
        "\n",
        "Write a Python program to sort (ascending and descending) a dictionary by value.\n",
        "\n",
        "### Examples\n",
        "\n",
        "Input:\n",
        "\n",
        "```python\n",
        "d = {1: 2, 3: 4, 4: 3, 2: 1, 0: 0}\n",
        "```\n",
        "\n",
        "Output:\n",
        "\n",
        "```python\n",
        "'Dictionary in ascending order by value:'    {0: 0, 1: 2, 2: 1, 3: 4, 4: 3}\n",
        "'Dictionary in descending order by value:'   {4: 3, 3: 4, 2: 1, 1: 2, 0: 0}\n",
        "```\n"
      ]
    },
    {
      "cell_type": "code",
      "execution_count": null,
      "metadata": {},
      "outputs": [],
      "source": []
    },
    {
      "cell_type": "markdown",
      "metadata": {},
      "source": [
        "### ↓ tanpham solution ↓\n",
        "\n",
        "<br><br><br><br><br><br><br><br><br><br><br><br><br><br><br>\n",
        "<br><br><br><br><br><br><br><br><br><br><br><br><br><br><br>\n",
        "<br><br><br><br><br><br><br><br><br><br><br><br><br><br><br>\n"
      ]
    },
    {
      "cell_type": "code",
      "execution_count": null,
      "metadata": {},
      "outputs": [],
      "source": [
        "import operator\n",
        "\n",
        "d = {1: 2, 3: 4, 4: 3, 2: 1, 0: 0}\n",
        "print('Original dictionary : ', d)\n",
        "sorted_d = sorted(d.items(), key=operator.itemgetter(0))\n",
        "print('Dictionary in ascending order by value : ', sorted_d)\n",
        "sorted_d = sorted(d.items(), key=operator.itemgetter(0), reverse=True)\n",
        "print('Dictionary in descending order by value : ', sorted_d)"
      ]
    }
  ],
  "metadata": {
    "kernelspec": {
      "display_name": "Python 3",
      "language": "python",
      "name": "python3"
    },
    "language_info": {
      "codemirror_mode": {
        "name": "ipython",
        "version": 3
      },
      "file_extension": ".py",
      "mimetype": "text/x-python",
      "name": "python",
      "nbconvert_exporter": "python",
      "pygments_lexer": "ipython3",
      "version": "3.6.1"
    }
  },
  "nbformat": 4,
  "nbformat_minor": 2
}
