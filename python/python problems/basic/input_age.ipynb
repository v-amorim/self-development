{
 "cells": [
  {
   "cell_type": "markdown",
   "metadata": {},
   "source": [
    "### Challenge\n",
    "\n",
    "Create a program that asks the user to enter their name and their age, then print out a message addressed to them that tells them the year that they will turn 100 years old.\n",
    "\n",
    "### Examples\n",
    "\n",
    "Input:\n",
    "\n",
    "```python\n",
    "   name = 'John'\n",
    "   age = 20\n",
    "   current_year = 2023\n",
    "```\n",
    "\n",
    "Output:\n",
    "\n",
    "```python\n",
    "   'John, you will be 100 years old in 2103.'\n",
    "```\n"
   ]
  },
  {
   "cell_type": "code",
   "execution_count": null,
   "metadata": {},
   "outputs": [],
   "source": []
  },
  {
   "cell_type": "markdown",
   "metadata": {},
   "source": [
    "### ↓ Solved ↓\n",
    "\n",
    "<br><br><br><br><br><br><br><br><br><br><br><br><br><br><br>\n",
    "<br><br><br><br><br><br><br><br><br><br><br><br><br><br><br>\n",
    "<br><br><br><br><br><br><br><br><br><br><br><br><br><br><br>\n"
   ]
  },
  {
   "cell_type": "code",
   "execution_count": null,
   "metadata": {},
   "outputs": [],
   "source": [
    "name = input('What is your name: ')\n",
    "age = int(input('How old are you: '))\n",
    "year = str((2023 - age) + 100)\n",
    "\n",
    "print(name + ' will be 100 years old in the year ' + year)"
   ]
  }
 ],
 "metadata": {
  "kernelspec": {
   "display_name": "Python 3",
   "language": "python",
   "name": "python3"
  },
  "language_info": {
   "codemirror_mode": {
    "name": "ipython",
    "version": 3
   },
   "file_extension": ".py",
   "mimetype": "text/x-python",
   "name": "python",
   "nbconvert_exporter": "python",
   "pygments_lexer": "ipython3",
   "version": "3.11.2"
  }
 },
 "nbformat": 4,
 "nbformat_minor": 2
}
