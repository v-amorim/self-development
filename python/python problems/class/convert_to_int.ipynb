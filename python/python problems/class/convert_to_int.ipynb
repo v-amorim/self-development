{
  "cells": [
    {
      "cell_type": "markdown",
      "metadata": {},
      "source": [
        "### Challenge\n",
        "\n",
        "Write a Python class to convert a roman numeral to an integer\n",
        "\n",
        "### Examples\n",
        "\n",
        "Input:\n",
        "\n",
        "```python\n",
        "'MMMCMLXXXVI'\n",
        "'MMMM'\n",
        "'C'\n",
        "```\n",
        "\n",
        "Output:\n",
        "\n",
        "```python\n",
        "3986\n",
        "4000\n",
        "100\n",
        "```\n"
      ]
    },
    {
      "cell_type": "code",
      "execution_count": null,
      "metadata": {},
      "outputs": [],
      "source": []
    },
    {
      "cell_type": "markdown",
      "metadata": {},
      "source": [
        "### ↓ tanpham solution ↓\n",
        "\n",
        "<br><br><br><br><br><br><br><br><br><br><br><br><br><br><br>\n",
        "<br><br><br><br><br><br><br><br><br><br><br><br><br><br><br>\n",
        "<br><br><br><br><br><br><br><br><br><br><br><br><br><br><br>\n"
      ]
    },
    {
      "cell_type": "code",
      "execution_count": null,
      "metadata": {
        "collapsed": true
      },
      "outputs": [],
      "source": [
        "class py_solution:\n",
        "    def roman_to_int(self, roman_number):\n",
        "        rom_val = {\n",
        "            'I': 1,\n",
        "            'V': 5,\n",
        "            'X': 10,\n",
        "            'L': 50,\n",
        "            'C': 100,\n",
        "            'D': 500,\n",
        "            'M': 1000\n",
        "        }\n",
        "        int_val = 0\n",
        "\n",
        "        for i in range(len(roman_number)):\n",
        "            if i > 0 and rom_val[roman_number[i]] > rom_val[roman_number[i - 1]]:\n",
        "                int_val += rom_val[roman_number[i]] - 2 * rom_val[roman_number[i - 1]]\n",
        "            else:\n",
        "                int_val += rom_val[roman_number[i]]\n",
        "        return int_val\n",
        "\n",
        "\n",
        "print(py_solution().roman_to_int('MMMCMLXXXVI'))\n",
        "print(py_solution().roman_to_int('MMMM'))\n",
        "print(py_solution().roman_to_int('C'))"
      ]
    }
  ],
  "metadata": {
    "kernelspec": {
      "display_name": "Python 3",
      "language": "python",
      "name": "python3"
    },
    "language_info": {
      "codemirror_mode": {
        "name": "ipython",
        "version": 3
      },
      "file_extension": ".py",
      "mimetype": "text/x-python",
      "name": "python",
      "nbconvert_exporter": "python",
      "pygments_lexer": "ipython3",
      "version": "3.6.1"
    }
  },
  "nbformat": 4,
  "nbformat_minor": 2
}
