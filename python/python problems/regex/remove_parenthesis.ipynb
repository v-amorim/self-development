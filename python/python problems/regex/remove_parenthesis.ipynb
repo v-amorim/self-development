{
  "cells": [
    {
      "cell_type": "markdown",
      "metadata": {},
      "source": [
        "### Challenge\n",
        "\n",
        "Write a Python program to remove the parenthesis area in a string.\n",
        "\n",
        "### Examples\n",
        "\n",
        "Input:\n",
        "\n",
        "```python\n",
        "[\"example(.com)\", \"w3resource\", \"github(.com)\", \"stackoverflow(.com)\"]\n",
        "```\n",
        "\n",
        "Output:\n",
        "\n",
        "```python\n",
        "'example'\n",
        "'w3resource'\n",
        "'github'\n",
        "'stackoverflow'\n",
        "```\n"
      ]
    },
    {
      "cell_type": "code",
      "execution_count": null,
      "metadata": {},
      "outputs": [],
      "source": []
    },
    {
      "cell_type": "markdown",
      "metadata": {},
      "source": [
        "### ↓ tanpham solution ↓\n",
        "\n",
        "<br><br><br><br><br><br><br><br><br><br><br><br><br><br><br>\n",
        "<br><br><br><br><br><br><br><br><br><br><br><br><br><br><br>\n",
        "<br><br><br><br><br><br><br><br><br><br><br><br><br><br><br>\n"
      ]
    },
    {
      "cell_type": "code",
      "execution_count": null,
      "metadata": {},
      "outputs": [],
      "source": [
        "import re\n",
        "items = [\"example (.com)\", \"w3resource\", \"github (.com)\", \"stackoverflow (.com)\"]\n",
        "for item in items:\n",
        "    print(re.sub(r\" ?\\([^)]+\\)\", \"\", item))"
      ]
    }
  ],
  "metadata": {
    "kernelspec": {
      "display_name": "Python 3",
      "language": "python",
      "name": "python3"
    },
    "language_info": {
      "codemirror_mode": {
        "name": "ipython",
        "version": 3
      },
      "file_extension": ".py",
      "mimetype": "text/x-python",
      "name": "python",
      "nbconvert_exporter": "python",
      "pygments_lexer": "ipython3",
      "version": "3.6.1"
    }
  },
  "nbformat": 4,
  "nbformat_minor": 2
}
