{
  "cells": [
    {
      "cell_type": "markdown",
      "metadata": {},
      "source": [
        "### Challenge\n",
        "\n",
        "Write a Python script to display the various Date Time formats:\n",
        "\n",
        "1. Current date and time\n",
        "1. Current year\n",
        "1. Month of year\n",
        "1. Week number of the year\n",
        "1. Weekday of the week\n",
        "1. Day of year\n",
        "1. Day of the month\n",
        "1. Day of week\n",
        "\n",
        "### Examples\n",
        "\n",
        "Input:\n",
        "\n",
        "```python\n",
        "   datetime_report()\n",
        "```\n",
        "\n",
        "Output:\n",
        "\n",
        "```python\n",
        "\"\"\"\n",
        "   Current date and time:  2023-11-08 23:01:39.263015\n",
        "   Current year:  2023\n",
        "   Month of year:  November\n",
        "   Week number of the year:  45\n",
        "   Weekday of the week:  3\n",
        "   Day of year:  312\n",
        "   Day of the month :  08\n",
        "   Day of week:  Wednesday\n",
        "\"\"\"\n",
        "```\n"
      ]
    },
    {
      "cell_type": "code",
      "execution_count": null,
      "metadata": {},
      "outputs": [],
      "source": []
    },
    {
      "cell_type": "markdown",
      "metadata": {},
      "source": [
        "### ↓ Solved ↓\n",
        "\n",
        "<br><br><br><br><br><br><br><br><br><br><br><br><br><br><br>\n",
        "<br><br><br><br><br><br><br><br><br><br><br><br><br><br><br>\n",
        "<br><br><br><br><br><br><br><br><br><br><br><br><br><br><br>\n"
      ]
    },
    {
      "cell_type": "code",
      "execution_count": null,
      "metadata": {},
      "outputs": [],
      "source": [
        "import time\n",
        "import datetime\n",
        "\n",
        "print(\"Current date and time: \", datetime.datetime.now())\n",
        "print(\"Current year: \", datetime.date.today().strftime(\"%Y\"))\n",
        "print(\"Month of year: \", datetime.date.today().strftime(\"%B\"))\n",
        "print(\"Week number of the year: \", datetime.date.today().strftime(\"%W\"))\n",
        "print(\"Weekday of the week: \", datetime.date.today().strftime(\"%w\"))\n",
        "print(\"Day of year: \", datetime.date.today().strftime(\"%j\"))\n",
        "print(\"Day of the month : \", datetime.date.today().strftime(\"%d\"))\n",
        "print(\"Day of week: \", datetime.date.today().strftime(\"%A\"))"
      ]
    }
  ],
  "metadata": {
    "kernelspec": {
      "display_name": "Python 3",
      "language": "python",
      "name": "python3"
    },
    "language_info": {
      "codemirror_mode": {
        "name": "ipython",
        "version": 3
      },
      "file_extension": ".py",
      "mimetype": "text/x-python",
      "name": "python",
      "nbconvert_exporter": "python",
      "pygments_lexer": "ipython3",
      "version": "3.11.2"
    }
  },
  "nbformat": 4,
  "nbformat_minor": 2
}
