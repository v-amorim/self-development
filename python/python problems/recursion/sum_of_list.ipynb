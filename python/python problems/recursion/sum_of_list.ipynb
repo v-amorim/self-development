{
  "cells": [
    {
      "cell_type": "markdown",
      "metadata": {},
      "source": [
        "### Challenge\n",
        "\n",
        "Write a Python program to calculate the sum of a list of numbers. (in recursion fashion)\n",
        "\n",
        "### Examples\n",
        "\n",
        "Input:\n",
        "\n",
        "```python\n",
        "input_list = [2, 4, 5, 6, 7]\n",
        "```\n",
        "\n",
        "Output:\n",
        "\n",
        "```python\n",
        "24\n",
        "```\n"
      ]
    },
    {
      "cell_type": "code",
      "execution_count": null,
      "metadata": {},
      "outputs": [],
      "source": []
    },
    {
      "cell_type": "markdown",
      "metadata": {},
      "source": [
        "### ↓ tanpham solution ↓\n",
        "\n",
        "<br><br><br><br><br><br><br><br><br><br><br><br><br><br><br>\n",
        "<br><br><br><br><br><br><br><br><br><br><br><br><br><br><br>\n",
        "<br><br><br><br><br><br><br><br><br><br><br><br><br><br><br>\n"
      ]
    },
    {
      "cell_type": "code",
      "execution_count": null,
      "metadata": {},
      "outputs": [],
      "source": [
        "def list_sum(num_List):\n",
        "    if len(num_List) == 1:\n",
        "        return num_List[0]\n",
        "    else:\n",
        "        return num_List[0] + list_sum(num_List[1:])\n",
        "\n",
        "\n",
        "print(list_sum([2, 4, 5, 6, 7]))"
      ]
    }
  ],
  "metadata": {
    "kernelspec": {
      "display_name": "Python 3",
      "language": "python",
      "name": "python3"
    },
    "language_info": {
      "codemirror_mode": {
        "name": "ipython",
        "version": 3
      },
      "file_extension": ".py",
      "mimetype": "text/x-python",
      "name": "python",
      "nbconvert_exporter": "python",
      "pygments_lexer": "ipython3",
      "version": "3.6.1"
    }
  },
  "nbformat": 4,
  "nbformat_minor": 2
}
