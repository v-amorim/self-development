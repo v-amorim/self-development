{
  "cells": [
    {
      "cell_type": "markdown",
      "metadata": {},
      "source": [
        "### Challenge\n",
        "\n",
        "Write a Python program to check whether an alphabet is a vowel or consonant\n",
        "\n",
        "### Examples\n",
        "\n",
        "Input:\n",
        "\n",
        "```python\n",
        "letter = 'd'\n",
        "```\n",
        "\n",
        "Output:\n",
        "\n",
        "```python\n",
        "'d is a consonant'\n",
        "```\n"
      ]
    },
    {
      "cell_type": "code",
      "execution_count": null,
      "metadata": {},
      "outputs": [],
      "source": []
    },
    {
      "cell_type": "markdown",
      "metadata": {},
      "source": [
        "### ↓ tanpham solution ↓\n",
        "\n",
        "<br><br><br><br><br><br><br><br><br><br><br><br><br><br><br>\n",
        "<br><br><br><br><br><br><br><br><br><br><br><br><br><br><br>\n",
        "<br><br><br><br><br><br><br><br><br><br><br><br><br><br><br>\n"
      ]
    },
    {
      "cell_type": "code",
      "execution_count": null,
      "metadata": {},
      "outputs": [
        {
          "name": "stdout",
          "output_type": "stream",
          "text": [
            "Input a letter of the alphabet: d\n",
            "d is a consonant.\n"
          ]
        }
      ],
      "source": [
        "l = input(\"Input a letter of the alphabet: \")\n",
        "\n",
        "if l in (\"a\", \"e\", \"i\", \"o\", \"u\"):\n",
        "    print(\"%s is a vowel.\" % l)\n",
        "elif l == \"y\":\n",
        "    print(\"Sometimes letter y stand for vowel, sometimes stand for consonant.\")\n",
        "else:\n",
        "    print(\"%s is a consonant.\" % l)"
      ]
    }
  ],
  "metadata": {
    "kernelspec": {
      "display_name": "Python 3",
      "language": "python",
      "name": "python3"
    },
    "language_info": {
      "codemirror_mode": {
        "name": "ipython",
        "version": 3
      },
      "file_extension": ".py",
      "mimetype": "text/x-python",
      "name": "python",
      "nbconvert_exporter": "python",
      "pygments_lexer": "ipython3",
      "version": "3.6.1"
    }
  },
  "nbformat": 4,
  "nbformat_minor": 2
}
