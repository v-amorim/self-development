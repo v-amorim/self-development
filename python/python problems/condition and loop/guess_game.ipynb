{
  "cells": [
    {
      "cell_type": "markdown",
      "metadata": {},
      "source": [
        "### Challenge\n",
        "\n",
        "Generate a random number between 1 and 9 (including 1 and 9).\n",
        "\n",
        "Ask the user to guess the number, then tell them whether they guessed too low, too high, or exactly right.\n",
        "\n",
        "### Examples\n",
        "\n",
        "Input:\n",
        "\n",
        "```python\n",
        "\"\"\"\n",
        "What's your guess? 3\n",
        "What's your guess? 2\n",
        "\"\"\"\n",
        "```\n",
        "\n",
        "Output:\n",
        "\n",
        "```python\n",
        "\"\"\"\n",
        "Too high!\n",
        "\n",
        "You got it! And it only took you 2 tries!\n",
        "\"\"\"\n",
        "```\n"
      ]
    },
    {
      "cell_type": "code",
      "execution_count": null,
      "metadata": {},
      "outputs": [],
      "source": []
    },
    {
      "cell_type": "markdown",
      "metadata": {},
      "source": [
        "### ↓ tanpham solution ↓\n",
        "\n",
        "<br><br><br><br><br><br><br><br><br><br><br><br><br><br><br>\n",
        "<br><br><br><br><br><br><br><br><br><br><br><br><br><br><br>\n",
        "<br><br><br><br><br><br><br><br><br><br><br><br><br><br><br>\n"
      ]
    },
    {
      "cell_type": "code",
      "execution_count": null,
      "metadata": {},
      "outputs": [],
      "source": [
        "import random\n",
        "\n",
        "number = random.randint(1, 9)\n",
        "guess = 0\n",
        "count = 0\n",
        "\n",
        "\n",
        "while guess != number and guess != \"exit\":\n",
        "    guess = input(\"What's your guess? \")\n",
        "\n",
        "    if guess == \"exit\":\n",
        "        break\n",
        "\n",
        "    guess = int(guess)\n",
        "    count += 1\n",
        "\n",
        "    if guess < number:\n",
        "        print(\"Too low!\")\n",
        "    elif guess > number:\n",
        "        print(\"Too high!\")\n",
        "    else:\n",
        "        print(\"You got it!\", end=\" \")\n",
        "        print(\"And it only took you\", count, \"tries!\")"
      ]
    }
  ],
  "metadata": {
    "kernelspec": {
      "display_name": "Python 3",
      "language": "python",
      "name": "python3"
    },
    "language_info": {
      "codemirror_mode": {
        "name": "ipython",
        "version": 3
      },
      "file_extension": ".py",
      "mimetype": "text/x-python",
      "name": "python",
      "nbconvert_exporter": "python",
      "pygments_lexer": "ipython3",
      "version": "3.6.1"
    }
  },
  "nbformat": 4,
  "nbformat_minor": 2
}
