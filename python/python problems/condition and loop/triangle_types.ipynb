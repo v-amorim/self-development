{
  "cells": [
    {
      "cell_type": "code",
      "execution_count": 2,
      "metadata": {},
      "outputs": [
        {
          "name": "stdout",
          "output_type": "stream",
          "text": [
            "Input lengths of the triangle sides: \n",
            "x: 1\n",
            "y: 2\n",
            "z: 3\n",
            "Scalene triangle\n"
          ]
        }
      ],
      "source": [
        "# Write a Python program to check a triangle is equilateral, isosceles or scalene.\n",
        "# Note :\n",
        "# An equilateral triangle is a triangle in which all three sides are equal.\n",
        "# A scalene triangle is a triangle that has three unequal sides.\n",
        "# An isosceles triangle is a triangle with (at least) two equal sides.\n",
        "\n",
        "print(\"Input lengths of the triangle sides: \")\n",
        "x = int(input(\"x: \"))\n",
        "y = int(input(\"y: \"))\n",
        "z = int(input(\"z: \"))\n",
        "\n",
        "if x == y == z:\n",
        "    print(\"Equilateral triangle\")\n",
        "elif x != y != z:\n",
        "    print(\"Scalene triangle\")\n",
        "else:\n",
        "    print(\"isosceles triangle\")"
      ]
    }
  ],
  "metadata": {
    "kernelspec": {
      "display_name": "Python 3",
      "language": "python",
      "name": "python3"
    },
    "language_info": {
      "codemirror_mode": {
        "name": "ipython",
        "version": 3
      },
      "file_extension": ".py",
      "mimetype": "text/x-python",
      "name": "python",
      "nbconvert_exporter": "python",
      "pygments_lexer": "ipython3",
      "version": "3.6.1"
    }
  },
  "nbformat": 4,
  "nbformat_minor": 2
}
