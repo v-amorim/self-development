{
  "cells": [
    {
      "cell_type": "markdown",
      "metadata": {},
      "source": [
        "### Challenge\n",
        "\n",
        "Write a Python program to check a triangle is valid or not\n",
        "\n",
        "### Examples\n",
        "\n",
        "Input:\n",
        "\n",
        "```python\n",
        "side_a, side_b, side_c = 1, 10, 1\n",
        "side_a, side_b, side_c = 1, 2, 3\n",
        "side_a, side_b, side_c = 3, 4, 5\n",
        "```\n",
        "\n",
        "Output:\n",
        "\n",
        "```python\n",
        "\"It's not a valid triangle\"\n",
        "\"It's a valid degenerate triangle\"\n",
        "\"It's a valid triangle\"\n",
        "```\n"
      ]
    },
    {
      "cell_type": "code",
      "execution_count": null,
      "metadata": {},
      "outputs": [],
      "source": []
    },
    {
      "cell_type": "markdown",
      "metadata": {},
      "source": [
        "### ↓ Solved ↓\n",
        "\n",
        "<br><br><br><br><br><br><br><br><br><br><br><br><br><br><br>\n",
        "<br><br><br><br><br><br><br><br><br><br><br><br><br><br><br>\n",
        "<br><br><br><br><br><br><br><br><br><br><br><br><br><br><br>\n"
      ]
    },
    {
      "cell_type": "code",
      "execution_count": null,
      "metadata": {},
      "outputs": [
        {
          "name": "stdout",
          "output_type": "stream",
          "text": [
            "No, the lengths wont form a triangle\n"
          ]
        }
      ],
      "source": [
        "def triangle_check(l1, l2, l3):\n",
        "    if (l1 > l2 + l3) or (l2 > l1 + l3) or (l3 > l1 + l2):\n",
        "        print('No, the lengths wont form a triangle')\n",
        "    elif (l1 == l2 + l3) or (l2 == l1 + l3) or (l3 == l1 + l2):\n",
        "        print('yes, it can form a degenerated triangle')\n",
        "    else:\n",
        "        print('Yes, a triangle can be formed out of it')\n",
        "\n",
        "\n",
        "length1 = int(input('enter side 1\\n'))\n",
        "length2 = int(input('enter side 2\\n'))\n",
        "length3 = int(input('enter side 3\\n'))\n",
        "\n",
        "triangle_check(length1, length2, length3)"
      ]
    }
  ],
  "metadata": {
    "kernelspec": {
      "display_name": "Python 3",
      "language": "python",
      "name": "python3"
    },
    "language_info": {
      "codemirror_mode": {
        "name": "ipython",
        "version": 3
      },
      "file_extension": ".py",
      "mimetype": "text/x-python",
      "name": "python",
      "nbconvert_exporter": "python",
      "pygments_lexer": "ipython3",
      "version": "3.11.2"
    }
  },
  "nbformat": 4,
  "nbformat_minor": 2
}
