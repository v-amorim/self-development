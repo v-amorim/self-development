{
  "cells": [
    {
      "cell_type": "markdown",
      "metadata": {},
      "source": [
        "### Challenge\n",
        "\n",
        "Write a Python program to sort a list of elements using the bubble sort algorithm.\n",
        "\n",
        "Note: According to Wikipedia \"Bubble sort, sometimes referred to as sinking sort, is a simple sorting algorithm that repeatedly steps through the list to be sorted, compares each pair of adjacent items and swaps them if they are in the wrong order. The pass through the list is repeated until no swaps are needed, which indicates that the list is sorted.\n",
        "\n",
        "The algorithm, which is a comparison sort, is named for the way smaller elements \"bubble\" to the top of the list.\n",
        "\n",
        "Although the algorithm is simple, it is too slow and impractical for most problems even when compared to insertion sort.\n",
        "\n",
        "It can be practical if the input is usually in sort order but may occasionally have some out-of-order elements nearly in position.\n",
        "\n",
        "### Examples\n",
        "\n",
        "Input:\n",
        "\n",
        "```python\n",
        "input_list = [14, 46, 43, 27, 57, 41, 45, 21, 70]\n",
        "```\n",
        "\n",
        "Output:\n",
        "\n",
        "```python\n",
        "[14, 21, 27, 41, 43, 45, 46, 57, 70]\n",
        "```\n"
      ]
    },
    {
      "cell_type": "code",
      "execution_count": null,
      "metadata": {},
      "outputs": [],
      "source": []
    },
    {
      "cell_type": "markdown",
      "metadata": {},
      "source": [
        "### ↓ tanpham solution ↓\n",
        "\n",
        "<br><br><br><br><br><br><br><br><br><br><br><br><br><br><br>\n",
        "<br><br><br><br><br><br><br><br><br><br><br><br><br><br><br>\n",
        "<br><br><br><br><br><br><br><br><br><br><br><br><br><br><br>\n"
      ]
    },
    {
      "cell_type": "code",
      "execution_count": null,
      "metadata": {},
      "outputs": [],
      "source": [
        "def bubbleSort(nlist):\n",
        "    for passnum in range(len(nlist) - 1, 0, -1):\n",
        "        for i in range(passnum):\n",
        "            if nlist[i] > nlist[i + 1]:\n",
        "                temp = nlist[i]\n",
        "                nlist[i] = nlist[i + 1]\n",
        "                nlist[i + 1] = temp\n",
        "\n",
        "\n",
        "nlist = [14, 46, 43, 27, 57, 41, 45, 21, 70]\n",
        "bubbleSort(nlist)\n",
        "print(nlist)"
      ]
    }
  ],
  "metadata": {
    "kernelspec": {
      "display_name": "Python 3",
      "language": "python",
      "name": "python3"
    },
    "language_info": {
      "codemirror_mode": {
        "name": "ipython",
        "version": 3
      },
      "file_extension": ".py",
      "mimetype": "text/x-python",
      "name": "python",
      "nbconvert_exporter": "python",
      "pygments_lexer": "ipython3",
      "version": "3.11.2"
    }
  },
  "nbformat": 4,
  "nbformat_minor": 2
}
