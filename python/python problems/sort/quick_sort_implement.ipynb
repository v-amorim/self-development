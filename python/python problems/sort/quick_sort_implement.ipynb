{
 "cells": [
  {
   "cell_type": "markdown",
   "metadata": {},
   "source": [
    "### Challenge\n",
    "\n",
    "Write a Python program to sort a list of elements using the quick sort algorithm.\n",
    "\n",
    "Note: According to Wikipedia \"Quicksort is a comparison sort, meaning that it can sort items of any type for which a \"less-than\" relation (formally, a total order) is defined.\n",
    "\n",
    "In efficient implementations it is not a stable sort, meaning that the relative order of equal sort items is not preserved.\n",
    "\n",
    "Quicksort can operate in-place on an array, requiring small additional amounts of memory to perform the sorting.\"\n",
    "\n",
    "### Examples\n",
    "\n",
    "Input:\n",
    "\n",
    "```python\n",
    "[54, 26, 93, 17, 77, 31, 44, 55, 20]\n",
    "```\n",
    "\n",
    "Output:\n",
    "\n",
    "```python\n",
    "[17, 20, 26, 31, 44, 54, 55, 77, 93]\n",
    "```\n"
   ]
  },
  {
   "cell_type": "code",
   "execution_count": null,
   "metadata": {},
   "outputs": [],
   "source": []
  },
  {
   "cell_type": "markdown",
   "metadata": {},
   "source": [
    "### ↓ Solved ↓\n",
    "\n",
    "<br><br><br><br><br><br><br><br><br><br><br><br><br><br><br>\n",
    "<br><br><br><br><br><br><br><br><br><br><br><br><br><br><br>\n",
    "<br><br><br><br><br><br><br><br><br><br><br><br><br><br><br>\n"
   ]
  },
  {
   "cell_type": "code",
   "execution_count": null,
   "metadata": {},
   "outputs": [],
   "source": [
    "def quickSort(data_list):\n",
    "    quickSortHlp(data_list, 0, len(data_list) - 1)\n",
    "\n",
    "\n",
    "def quickSortHlp(data_list, first, last):\n",
    "    if first < last:\n",
    "\n",
    "        splitpoint = partition(data_list, first, last)\n",
    "\n",
    "        quickSortHlp(data_list, first, splitpoint - 1)\n",
    "        quickSortHlp(data_list, splitpoint + 1, last)\n",
    "\n",
    "\n",
    "def partition(data_list, first, last):\n",
    "    pivotvalue = data_list[first]\n",
    "\n",
    "    leftmark = first + 1\n",
    "    rightmark = last\n",
    "\n",
    "    done = False\n",
    "    while not done:\n",
    "\n",
    "        while leftmark <= rightmark and data_list[leftmark] <= pivotvalue:\n",
    "            leftmark = leftmark + 1\n",
    "\n",
    "        while data_list[rightmark] >= pivotvalue and rightmark >= leftmark:\n",
    "            rightmark = rightmark - 1\n",
    "\n",
    "        if rightmark < leftmark:\n",
    "            done = True\n",
    "        else:\n",
    "            temp = data_list[leftmark]\n",
    "            data_list[leftmark] = data_list[rightmark]\n",
    "            data_list[rightmark] = temp\n",
    "\n",
    "    temp = data_list[first]\n",
    "    data_list[first] = data_list[rightmark]\n",
    "    data_list[rightmark] = temp\n",
    "\n",
    "    return rightmark\n",
    "\n",
    "\n",
    "data_list = [54, 26, 93, 17, 77, 31, 44, 55, 20]\n",
    "quickSort(data_list)\n",
    "print(data_list)"
   ]
  }
 ],
 "metadata": {
  "kernelspec": {
   "display_name": "Python 3",
   "language": "python",
   "name": "python3"
  },
  "language_info": {
   "codemirror_mode": {
    "name": "ipython",
    "version": 3
   },
   "file_extension": ".py",
   "mimetype": "text/x-python",
   "name": "python",
   "nbconvert_exporter": "python",
   "pygments_lexer": "ipython3",
   "version": "3.6.1"
  }
 },
 "nbformat": 4,
 "nbformat_minor": 2
}
