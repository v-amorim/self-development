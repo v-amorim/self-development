{
  "cells": [
    {
      "cell_type": "markdown",
      "metadata": {},
      "source": [
        "### Challenge\n",
        "\n",
        "Consider an array of non-negative integers.\n",
        "\n",
        "A second array is formed by shuffling the elements of the first array and deleting a random element.\n",
        "\n",
        "Given these two arrays, find which element is missing in the second array.\n",
        "\n",
        "### Examples\n",
        "\n",
        "Here is an example input, the first array is shuffled and the number 5 is removed to construct the second array.\n",
        "\n",
        "Input:\n",
        "\n",
        "```python\n",
        "first_array = [1, 2, 3, 4, 5, 6, 7]\n",
        "second_array = [3, 7, 2, 1, 4, 6]\n",
        "\n",
        "finder(first_array, second_array)\n",
        "```\n",
        "\n",
        "Output:\n",
        "\n",
        "```python\n",
        "5\n",
        "```\n"
      ]
    },
    {
      "cell_type": "code",
      "execution_count": 44,
      "metadata": {},
      "outputs": [],
      "source": [
        "import random\n",
        "\n",
        "def shuffler(array):\n",
        "    shuffled_array = array.copy()\n",
        "    random.shuffle(shuffled_array)\n",
        "    return shuffled_array\n",
        "\n",
        "def finder(first_array, second_array):\n",
        "    result = 0\n",
        "    \n",
        "    for num in first_array + second_array:\n",
        "        result ^= num\n",
        "    \n",
        "    return result"
      ]
    },
    {
      "cell_type": "code",
      "execution_count": 109,
      "metadata": {},
      "outputs": [
        {
          "name": "stdout",
          "output_type": "stream",
          "text": [
            "original_array = [1, 2, 3, 4, 5, 6, 7]\n",
            "second_array = [5, 4, 7, 1, 2, 3]\n",
            "missing_element = 6\n"
          ]
        }
      ],
      "source": [
        "original_array = [1, 2, 3, 4, 5, 6, 7]\n",
        "shuffled_array = shuffler(original_array)\n",
        "removed_element = random.choice(shuffled_array)\n",
        "second_array = [num for num in shuffled_array if num != removed_element]\n",
        "\n",
        "missing_element = finder(original_array, second_array)\n",
        "print(f\"{original_array = }\\n{second_array = }\")\n",
        "print(f\"{missing_element = }\")\n"
      ]
    },
    {
      "cell_type": "markdown",
      "metadata": {},
      "source": [
        "### ↓ tanpham solution ↓\n",
        "\n",
        "<br><br><br><br><br><br><br><br><br><br><br><br><br><br><br>\n",
        "<br><br><br><br><br><br><br><br><br><br><br><br><br><br><br>\n",
        "<br><br><br><br><br><br><br><br><br><br><br><br><br><br><br>\n"
      ]
    },
    {
      "cell_type": "code",
      "execution_count": null,
      "metadata": {
        "scrolled": true
      },
      "outputs": [],
      "source": [
        "first_array = [1, 2, 3, 4, 5, 6, 7]\n",
        "second_array = [3, 7, 2, 1, 4, 6]\n",
        "\n",
        "\n",
        "def finder(first_array, second_array):\n",
        "    return (sum(first_array) - sum(second_array))\n",
        "\n",
        "\n",
        "missing_number = finder(first_array, second_array)\n",
        "\n",
        "print(missing_number)"
      ]
    }
  ],
  "metadata": {
    "kernelspec": {
      "display_name": "Python 3",
      "language": "python",
      "name": "python3"
    },
    "language_info": {
      "codemirror_mode": {
        "name": "ipython",
        "version": 3
      },
      "file_extension": ".py",
      "mimetype": "text/x-python",
      "name": "python",
      "nbconvert_exporter": "python",
      "pygments_lexer": "ipython3",
      "version": "3.6.1"
    }
  },
  "nbformat": 4,
  "nbformat_minor": 2
}
