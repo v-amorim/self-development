{
  "cells": [
    {
      "cell_type": "markdown",
      "metadata": {},
      "source": [
        "### Challenge\n",
        "\n",
        "Rotate an array of n elements to the right by k steps.\n",
        "\n",
        "### Examples\n",
        "\n",
        "Input:\n",
        "\n",
        "```python\n",
        "array = [1, 2, 3, 4, 5, 6, 7]\n",
        "k = 3\n",
        "\n",
        "```\n",
        "\n",
        "Output:\n",
        "\n",
        "```python\n",
        "[5, 6, 7, 1, 2, 3, 4]\n",
        "```\n"
      ]
    },
    {
      "cell_type": "code",
      "execution_count": 15,
      "metadata": {},
      "outputs": [],
      "source": [
        "def rotate_array(array, k):\n",
        "    k %= len(array)\n",
        "    rotated_part = array[-k:]\n",
        "    \n",
        "    return rotated_part + array[:-k]\n"
      ]
    },
    {
      "cell_type": "code",
      "execution_count": 25,
      "metadata": {},
      "outputs": [
        {
          "name": "stdout",
          "output_type": "stream",
          "text": [
            "array = [1, 2, 3, 4, 5, 6, 7]\n",
            "rotate_array(array, k) = [5, 6, 7, 1, 2, 3, 4]\n",
            "rotate_array(array, k) = [6, 7, 1, 2, 3, 4, 5]\n",
            "rotate_array(array, k) = [7, 1, 2, 3, 4, 5, 6]\n"
          ]
        }
      ],
      "source": [
        "array = [1, 2, 3, 4, 5, 6, 7]\n",
        "print(f\"{array = }\")\n",
        "\n",
        "k = 3\n",
        "print(f\"{rotate_array(array, k) = }\")\n",
        "\n",
        "k = 2\n",
        "print(f\"{rotate_array(array, k) = }\")\n",
        "\n",
        "k = 1\n",
        "print(f\"{rotate_array(array, k) = }\")\n"
      ]
    },
    {
      "cell_type": "markdown",
      "metadata": {},
      "source": [
        "### ↓ tanpham solution ↓\n",
        "\n",
        "<br><br><br><br><br><br><br><br><br><br><br><br><br><br><br>\n",
        "<br><br><br><br><br><br><br><br><br><br><br><br><br><br><br>\n",
        "<br><br><br><br><br><br><br><br><br><br><br><br><br><br><br>\n"
      ]
    },
    {
      "cell_type": "code",
      "execution_count": null,
      "metadata": {},
      "outputs": [],
      "source": [
        "org = [1, 2, 3, 4, 5, 6, 7]\n",
        "result = org[:]\n",
        "steps = 3\n",
        "\n",
        "for idx, num in enumerate(org):\n",
        "    if idx + steps < len(org):\n",
        "        result[idx + steps] = org[idx]\n",
        "    else:\n",
        "        result[idx + steps - len(org)] = org[idx]\n",
        "\n",
        "print(result)"
      ]
    }
  ],
  "metadata": {
    "kernelspec": {
      "display_name": "Python 3",
      "language": "python",
      "name": "python3"
    },
    "language_info": {
      "codemirror_mode": {
        "name": "ipython",
        "version": 3
      },
      "file_extension": ".py",
      "mimetype": "text/x-python",
      "name": "python",
      "nbconvert_exporter": "python",
      "pygments_lexer": "ipython3",
      "version": "3.11.2"
    }
  },
  "nbformat": 4,
  "nbformat_minor": 2
}
