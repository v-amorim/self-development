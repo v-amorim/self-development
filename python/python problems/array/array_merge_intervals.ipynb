{
  "cells": [
    {
      "cell_type": "markdown",
      "metadata": {},
      "source": [
        "### Challenge\n",
        "\n",
        "Given a collection of intervals which are already sorted by start number, merge all overlapping intervals.\n",
        "\n",
        "### Examples\n",
        "\n",
        "Input:\n",
        "\n",
        "```python\n",
        "[[1, 3], [2, 6], [5, 10], [11, 16], [15, 18], [19, 22]]\n",
        "```\n",
        "\n",
        "Output:\n",
        "\n",
        "```python\n",
        "[[1, 10], [11, 18], [19, 22]]\n",
        "```\n"
      ]
    },
    {
      "cell_type": "code",
      "execution_count": 13,
      "metadata": {},
      "outputs": [],
      "source": [
        "def merge_intervals(intervals):\n",
        "    if not intervals:\n",
        "        return []\n",
        "\n",
        "    merged = [intervals[0]]\n",
        "\n",
        "    for start, end in intervals[1:]:\n",
        "        last_start, last_end = merged[-1]\n",
        "\n",
        "        if start <= last_end:\n",
        "            merged[-1] = [last_start, max(last_end, end)]\n",
        "        else:\n",
        "            merged.append([start, end])\n",
        "\n",
        "    return merged"
      ]
    },
    {
      "cell_type": "code",
      "execution_count": 14,
      "metadata": {},
      "outputs": [
        {
          "name": "stdout",
          "output_type": "stream",
          "text": [
            "[[1, 10], [11, 18], [19, 22]]\n",
            "[[1, 10], [11, 18], [19, 22], [23, 26]]\n"
          ]
        }
      ],
      "source": [
        "input_intervals = [[1, 3], [2, 6], [5, 10], [11, 16], [15, 18], [19, 22]]\n",
        "print(merge_intervals(input_intervals))\n",
        "\n",
        "input_intervals = [[1, 3], [2, 6], [5, 10], [11, 16], [15, 18], [19, 22], [23, 24], [23, 26]]\n",
        "print(merge_intervals(input_intervals))"
      ]
    },
    {
      "cell_type": "markdown",
      "metadata": {},
      "source": [
        "### ↓ tanpham solution ↓\n",
        "\n",
        "<br><br><br><br><br><br><br><br><br><br><br><br><br><br><br>\n",
        "<br><br><br><br><br><br><br><br><br><br><br><br><br><br><br>\n",
        "<br><br><br><br><br><br><br><br><br><br><br><br><br><br><br>\n"
      ]
    },
    {
      "cell_type": "code",
      "execution_count": null,
      "metadata": {},
      "outputs": [],
      "source": [
        "org_intervals = [[1, 3], [2, 6], [5, 10], [11, 16], [15, 18], [19, 22]]\n",
        "\n",
        "i = 0\n",
        "\n",
        "while i < len(org_intervals) - 1:\n",
        "    # print(org_intervals[i])\n",
        "    if org_intervals[i + 1][0] < org_intervals[i][1]:\n",
        "        org_intervals[i][1] = org_intervals[i + 1][1]\n",
        "        del org_intervals[i + 1]\n",
        "        i = i - 1\n",
        "    i = i + 1\n",
        "\n",
        "print(org_intervals)"
      ]
    }
  ],
  "metadata": {
    "kernelspec": {
      "display_name": "Python 3 (ipykernel)",
      "language": "python",
      "name": "python3"
    },
    "language_info": {
      "codemirror_mode": {
        "name": "ipython",
        "version": 3
      },
      "file_extension": ".py",
      "mimetype": "text/x-python",
      "name": "python",
      "nbconvert_exporter": "python",
      "pygments_lexer": "ipython3",
      "version": "3.11.2"
    }
  },
  "nbformat": 4,
  "nbformat_minor": 4
}
