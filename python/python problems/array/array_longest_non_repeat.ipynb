{
 "cells": [
  {
   "cell_type": "markdown",
   "metadata": {},
   "source": [
    "### Challenge\n",
    "\n",
    "Given a string, find the length of the longest substring without repeating characters.\n",
    "\n",
    "### Examples\n",
    "\n",
    "Input:\n",
    "\n",
    "```python\n",
    "'abcabcbb'\n",
    "'bbbbb'\n",
    "'pwwkew'\n",
    "```\n",
    "\n",
    "Output:\n",
    "\n",
    "```python\n",
    "'abc', len: 3\n",
    "'b',   len: 1\n",
    "'wke', len: 3\n",
    "```\n"
   ]
  },
  {
   "cell_type": "code",
   "execution_count": 45,
   "metadata": {},
   "outputs": [],
   "source": [
    "def longest_no_repeat_substring(string):\n",
    "    max_length = 0\n",
    "    start_index = 0\n",
    "    max_substring_start = 0\n",
    "    seen_indices = {}\n",
    "\n",
    "    for index, char in enumerate(string):\n",
    "        if char in seen_indices and start_index <= seen_indices[char]:\n",
    "            start_index = seen_indices[char] + 1\n",
    "\n",
    "        current_length = index - start_index + 1\n",
    "        if current_length > max_length:\n",
    "            max_length = current_length\n",
    "            max_substring_start = start_index\n",
    "\n",
    "        seen_indices[char] = index\n",
    "    substring = string[max_substring_start:max_substring_start + max_length]\n",
    "\n",
    "    return substring, max_length\n"
   ]
  },
  {
   "cell_type": "code",
   "execution_count": 46,
   "metadata": {},
   "outputs": [
    {
     "name": "stdout",
     "output_type": "stream",
     "text": [
      "('abc', 3)\n",
      "('b', 1)\n",
      "('wke', 3)\n",
      "('iguatesvbkhmn', 13)\n"
     ]
    }
   ],
   "source": [
    "print(longest_no_repeat_substring('abcabcbb'))\n",
    "print(longest_no_repeat_substring('bbbbb'))\n",
    "print(longest_no_repeat_substring('pwwkew'))\n",
    "print(longest_no_repeat_substring('iguatesvbkhmnbtkmjhliving'))"
   ]
  },
  {
   "cell_type": "markdown",
   "metadata": {},
   "source": [
    "### ↓ tanpham solution ↓\n",
    "\n",
    "<br><br><br><br><br><br><br><br><br><br><br><br><br><br><br>\n",
    "<br><br><br><br><br><br><br><br><br><br><br><br><br><br><br>\n",
    "<br><br><br><br><br><br><br><br><br><br><br><br><br><br><br>\n"
   ]
  },
  {
   "cell_type": "markdown",
   "metadata": {},
   "source": [
    "#### Algorithm\n",
    "\n",
    "In summary : Form all posible sub_strings from original string, then return length of longest sub_string\n",
    "\n",
    "- start from 1st character, form as long as posible sub string\n",
    "\n",
    "  - Add first character to sub string\n",
    "  - Add second character to sub string if second character not exist in sub string\n",
    "    ...\n",
    "  - Repeate until got a character which already exist inside sub string or\n",
    "\n",
    "- start from 2nd character, form as long as posible sub string\n",
    "\n",
    "  - Add first character to sub string\n",
    "  - Add second character to sub string if second character not exist in sub string\n",
    "    ...\n",
    "  - Repeate until got a character which already exist inside sub string\n",
    "\n",
    "- start from final character, form as long as posible sub string\n",
    "\n",
    "  - Add first character to sub string\n",
    "  - Add second character to sub string if second character not exist in sub string\n",
    "    ...\n",
    "  - Repeate until got a character which already exist inside sub string\n"
   ]
  },
  {
   "cell_type": "code",
   "execution_count": null,
   "metadata": {},
   "outputs": [],
   "source": [
    "str = \"iguatestliving\"\n",
    "\n",
    "\n",
    "def longest_non_repeat(str):\n",
    "    # init start position and max length\n",
    "    max_length = 1\n",
    "\n",
    "    for i, c in enumerate(str):\n",
    "\n",
    "        # init counter and sub string value\n",
    "        start_at = i\n",
    "        sub_str = []\n",
    "\n",
    "        # continue increase sub string if did not repeat character\n",
    "        while (start_at < len(str)) and (str[start_at] not in sub_str):\n",
    "            sub_str.append(str[start_at])\n",
    "            start_at = start_at + 1\n",
    "\n",
    "        # update the max length\n",
    "        if len(sub_str) > max_length:\n",
    "            max_length = len(sub_str)\n",
    "\n",
    "        print(sub_str)\n",
    "\n",
    "    return max_length\n",
    "\n",
    "\n",
    "longest_non_repeat(str)"
   ]
  }
 ],
 "metadata": {
  "kernelspec": {
   "display_name": "Python 3 (ipykernel)",
   "language": "python",
   "name": "python3"
  },
  "language_info": {
   "codemirror_mode": {
    "name": "ipython",
    "version": 3
   },
   "file_extension": ".py",
   "mimetype": "text/x-python",
   "name": "python",
   "nbconvert_exporter": "python",
   "pygments_lexer": "ipython3",
   "version": "3.11.2"
  }
 },
 "nbformat": 4,
 "nbformat_minor": 4
}
