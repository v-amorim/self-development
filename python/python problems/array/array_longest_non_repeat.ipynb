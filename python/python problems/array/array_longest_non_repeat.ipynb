{
 "cells": [
  {
   "cell_type": "markdown",
   "metadata": {},
   "source": [
    "### Challenge\n",
    "\n",
    "Given a string, find the length of the longest substring without repeating characters.\n",
    "\n",
    "### Examples\n",
    "\n",
    "Input:\n",
    "\n",
    "```python\n",
    "   'abcabcbb'\n",
    "   'bbbbb'\n",
    "   'pwwkew'\n",
    "```\n",
    "\n",
    "Output:\n",
    "\n",
    "```python\n",
    "   'abc', len: 3\n",
    "   'b',   len: 1\n",
    "   'wke', len: 3\n",
    "```\n"
   ]
  },
  {
   "cell_type": "code",
   "execution_count": null,
   "metadata": {},
   "outputs": [],
   "source": []
  },
  {
   "cell_type": "markdown",
   "metadata": {},
   "source": [
    "### ↓ Solved ↓\n",
    "\n",
    "<br><br><br><br><br><br><br><br><br><br><br><br><br><br><br>\n",
    "<br><br><br><br><br><br><br><br><br><br><br><br><br><br><br>\n",
    "<br><br><br><br><br><br><br><br><br><br><br><br><br><br><br>\n"
   ]
  },
  {
   "cell_type": "markdown",
   "metadata": {},
   "source": [
    "#### Algorithm\n",
    "\n",
    "In summary : Form all posible sub_strings from original string, then return length of longest sub_string\n",
    "\n",
    "- start from 1st character, form as long as posible sub string\n",
    "\n",
    "  - Add first character to sub string\n",
    "  - Add second character to sub string if second character not exist in sub string\n",
    "    ...\n",
    "  - Repeate until got a character which already exist inside sub string or\n",
    "\n",
    "- start from 2nd character, form as long as posible sub string\n",
    "\n",
    "  - Add first character to sub string\n",
    "  - Add second character to sub string if second character not exist in sub string\n",
    "    ...\n",
    "  - Repeate until got a character which already exist inside sub string\n",
    "\n",
    "- start from final character, form as long as posible sub string\n",
    "\n",
    "  - Add first character to sub string\n",
    "  - Add second character to sub string if second character not exist in sub string\n",
    "    ...\n",
    "  - Repeate until got a character which already exist inside sub string\n"
   ]
  },
  {
   "cell_type": "code",
   "execution_count": null,
   "metadata": {},
   "outputs": [],
   "source": [
    "str = \"iguatestliving\"\n",
    "\n",
    "\n",
    "def longest_non_repeat(str):\n",
    "    # init start position and max length\n",
    "    max_length = 1\n",
    "\n",
    "    for i, c in enumerate(str):\n",
    "\n",
    "        # init counter and sub string value\n",
    "        start_at = i\n",
    "        sub_str = []\n",
    "\n",
    "        # continue increase sub string if did not repeat character\n",
    "        while (start_at < len(str)) and (str[start_at] not in sub_str):\n",
    "            sub_str.append(str[start_at])\n",
    "            start_at = start_at + 1\n",
    "\n",
    "        # update the max length\n",
    "        if len(sub_str) > max_length:\n",
    "            max_length = len(sub_str)\n",
    "\n",
    "        print(sub_str)\n",
    "\n",
    "    return max_length\n",
    "\n",
    "\n",
    "longest_non_repeat(str)"
   ]
  },
  {
   "cell_type": "code",
   "execution_count": 1,
   "metadata": {},
   "outputs": [
    {
     "name": "stdout",
     "output_type": "stream",
     "text": [
      "Longest non-repeating substring: iguatesvbkhmn\n",
      "Length: 13\n"
     ]
    }
   ],
   "source": [
    "def longest_non_repeat_with_substring(word):\n",
    "    max_length = 0\n",
    "    start = 0\n",
    "    char_index = {}\n",
    "\n",
    "    for end, char in enumerate(word):\n",
    "        if char in char_index and char_index[char] >= start:\n",
    "            start = char_index[char] + 1\n",
    "\n",
    "        char_index[char] = end\n",
    "        current_length = end - start + 1\n",
    "\n",
    "        if current_length > max_length:\n",
    "            max_length = current_length\n",
    "            longest_substring = word[start:end + 1]\n",
    "\n",
    "    return max_length, longest_substring\n",
    "\n",
    "\n",
    "input_str = \"iguatesvbkhmnbtkmjhliving\"\n",
    "\n",
    "length, substring = longest_non_repeat_with_substring(input_str)\n",
    "\n",
    "print(\"Longest non-repeating substring:\", substring)\n",
    "print(\"Length:\", length)"
   ]
  }
 ],
 "metadata": {
  "kernelspec": {
   "display_name": "Python 3 (ipykernel)",
   "language": "python",
   "name": "python3"
  },
  "language_info": {
   "codemirror_mode": {
    "name": "ipython",
    "version": 3
   },
   "file_extension": ".py",
   "mimetype": "text/x-python",
   "name": "python",
   "nbconvert_exporter": "python",
   "pygments_lexer": "ipython3",
   "version": "3.11.2"
  }
 },
 "nbformat": 4,
 "nbformat_minor": 4
}
