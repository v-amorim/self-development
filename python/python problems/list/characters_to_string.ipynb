{
  "cells": [
    {
      "cell_type": "markdown",
      "metadata": {},
      "source": [
        "### Challenge\n",
        "\n",
        "Convert a list of characters into a string\n",
        "\n",
        "### Examples\n",
        "\n",
        "Input:\n",
        "\n",
        "```python\n",
        "   input_list = ['a', 'b', 'c', 'd']\n",
        "```\n",
        "\n",
        "Output:\n",
        "\n",
        "```python\n",
        "   'abcd'\n",
        "```\n"
      ]
    },
    {
      "cell_type": "code",
      "execution_count": null,
      "metadata": {},
      "outputs": [],
      "source": []
    },
    {
      "cell_type": "markdown",
      "metadata": {},
      "source": [
        "### ↓ Solved ↓\n",
        "\n",
        "<br><br><br><br><br><br><br><br><br><br><br><br><br><br><br>\n",
        "<br><br><br><br><br><br><br><br><br><br><br><br><br><br><br>\n",
        "<br><br><br><br><br><br><br><br><br><br><br><br><br><br><br>\n"
      ]
    },
    {
      "cell_type": "code",
      "execution_count": null,
      "metadata": {},
      "outputs": [],
      "source": [
        "s = ['a', 'b', 'c', 'd']\n",
        "str1 = ''.join(s)\n",
        "print(str1)"
      ]
    }
  ],
  "metadata": {
    "kernelspec": {
      "display_name": "Python 2",
      "language": "python",
      "name": "python2"
    },
    "language_info": {
      "codemirror_mode": {
        "name": "ipython",
        "version": 2
      },
      "file_extension": ".py",
      "mimetype": "text/x-python",
      "name": "python",
      "nbconvert_exporter": "python",
      "pygments_lexer": "ipython2",
      "version": "2.7.13"
    }
  },
  "nbformat": 4,
  "nbformat_minor": 2
}
