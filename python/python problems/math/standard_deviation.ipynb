{
  "cells": [
    {
      "cell_type": "markdown",
      "metadata": {},
      "source": [
        "### Challenge\n",
        "\n",
        "Write a Python program to calculate the standard deviation of the following data.\n",
        "\n",
        "### Examples\n",
        "\n",
        "Input:\n",
        "\n",
        "```python\n",
        "input_list = [4, 2, 5, 8, 6]\n",
        "```\n",
        "\n",
        "Output:\n",
        "\n",
        "```python\n",
        "2.23606797749979\n",
        "```\n"
      ]
    },
    {
      "cell_type": "code",
      "execution_count": null,
      "metadata": {},
      "outputs": [],
      "source": []
    },
    {
      "cell_type": "markdown",
      "metadata": {},
      "source": [
        "### ↓ tanpham solution ↓\n",
        "\n",
        "<br><br><br><br><br><br><br><br><br><br><br><br><br><br><br>\n",
        "<br><br><br><br><br><br><br><br><br><br><br><br><br><br><br>\n",
        "<br><br><br><br><br><br><br><br><br><br><br><br><br><br><br>\n"
      ]
    },
    {
      "cell_type": "code",
      "execution_count": null,
      "metadata": {},
      "outputs": [],
      "source": [
        "import math\n",
        "import sys\n",
        "\n",
        "\n",
        "def sd_calc(data):\n",
        "    n = len(data)\n",
        "\n",
        "    if n <= 1:\n",
        "        return 0.0\n",
        "\n",
        "    mean, sd = avg_calc(data), 0.0\n",
        "\n",
        "    # calculate stan. dev.\n",
        "    for el in data:\n",
        "        sd += (float(el) - mean)**2\n",
        "    sd = math.sqrt(sd / float(n - 1))\n",
        "\n",
        "    return sd\n",
        "\n",
        "\n",
        "def avg_calc(ls):\n",
        "    n, mean = len(ls), 0.0\n",
        "\n",
        "    if n <= 1:\n",
        "        return ls[0]\n",
        "\n",
        "    # calculate average\n",
        "    for el in ls:\n",
        "        mean = mean + float(el)\n",
        "    mean = mean / float(n)\n",
        "\n",
        "    return mean\n",
        "\n",
        "\n",
        "data = [4, 2, 5, 8, 6]\n",
        "print(\"Sample Data: \", data)\n",
        "print(\"Standard Deviation : \", sd_calc(data))"
      ]
    }
  ],
  "metadata": {
    "kernelspec": {
      "display_name": "Python 3",
      "language": "python",
      "name": "python3"
    },
    "language_info": {
      "codemirror_mode": {
        "name": "ipython",
        "version": 3
      },
      "file_extension": ".py",
      "mimetype": "text/x-python",
      "name": "python",
      "nbconvert_exporter": "python",
      "pygments_lexer": "ipython3",
      "version": "3.6.1"
    }
  },
  "nbformat": 4,
  "nbformat_minor": 2
}
