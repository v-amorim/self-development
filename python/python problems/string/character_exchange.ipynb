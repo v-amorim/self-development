{
 "cells": [
  {
   "cell_type": "markdown",
   "metadata": {},
   "source": [
    "### Challenge\n",
    "\n",
    "Write a Python program to change a given string to a new string where the first and last chars have been exchanged.\n",
    "\n",
    "### Examples\n",
    "\n",
    "Input:\n",
    "\n",
    "```python\n",
    "'abcd'\n",
    "'12345'\n",
    "```\n",
    "\n",
    "Output:\n",
    "\n",
    "```python\n",
    "'dbca'\n",
    "'52341'\n",
    "```\n"
   ]
  },
  {
   "cell_type": "code",
   "execution_count": null,
   "metadata": {},
   "outputs": [],
   "source": []
  },
  {
   "cell_type": "markdown",
   "metadata": {},
   "source": [
    "### ↓ Solved ↓\n",
    "\n",
    "<br><br><br><br><br><br><br><br><br><br><br><br><br><br><br>\n",
    "<br><br><br><br><br><br><br><br><br><br><br><br><br><br><br>\n",
    "<br><br><br><br><br><br><br><br><br><br><br><br><br><br><br>\n"
   ]
  },
  {
   "cell_type": "code",
   "execution_count": null,
   "metadata": {},
   "outputs": [],
   "source": [
    "def change_sring(str1):\n",
    "    return str1[-1:] + str1[1:-1] + str1[:1]\n",
    "\n",
    "\n",
    "print(change_sring('abcd'))\n",
    "print(change_sring('12345'))"
   ]
  }
 ],
 "metadata": {
  "kernelspec": {
   "display_name": "Python 3",
   "language": "python",
   "name": "python3"
  },
  "language_info": {
   "codemirror_mode": {
    "name": "ipython",
    "version": 3
   },
   "file_extension": ".py",
   "mimetype": "text/x-python",
   "name": "python",
   "nbconvert_exporter": "python",
   "pygments_lexer": "ipython3",
   "version": "3.6.1"
  }
 },
 "nbformat": 4,
 "nbformat_minor": 2
}
