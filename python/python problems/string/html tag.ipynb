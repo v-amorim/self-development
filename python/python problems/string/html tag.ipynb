{
  "cells": [
    {
      "cell_type": "markdown",
      "metadata": {},
      "source": [
        "### Challenge\n",
        "\n",
        "Write a Python function to create the HTML string with tags around the word(s).\n",
        "\n",
        "### Examples\n",
        "\n",
        "Input:\n",
        "\n",
        "```python\n",
        "add_tags('i', 'Python')\n",
        "add_tags('b', 'Python Tutorial')\n",
        "```\n",
        "\n",
        "Output:\n",
        "\n",
        "```python\n",
        "'<i>Python</i>'\n",
        "'<b>Python Tutorial </b>'\n",
        "```\n"
      ]
    },
    {
      "cell_type": "code",
      "execution_count": null,
      "metadata": {},
      "outputs": [],
      "source": []
    },
    {
      "cell_type": "markdown",
      "metadata": {},
      "source": [
        "### ↓ tanpham solution ↓\n",
        "\n",
        "<br><br><br><br><br><br><br><br><br><br><br><br><br><br><br>\n",
        "<br><br><br><br><br><br><br><br><br><br><br><br><br><br><br>\n",
        "<br><br><br><br><br><br><br><br><br><br><br><br><br><br><br>\n"
      ]
    },
    {
      "cell_type": "code",
      "execution_count": null,
      "metadata": {},
      "outputs": [
        {
          "name": "stdout",
          "output_type": "stream",
          "text": [
            "<i>Python</i>\n",
            "<b>Python Tutorial</b>\n"
          ]
        }
      ],
      "source": [
        "def add_tags(tag, word):\n",
        "    return \"<%s>%s</%s>\" % (tag, word, tag)\n",
        "\n",
        "\n",
        "print(add_tags('i', 'Python'))\n",
        "print(add_tags('b', 'Python Tutorial'))"
      ]
    }
  ],
  "metadata": {
    "kernelspec": {
      "display_name": "Python 3",
      "language": "python",
      "name": "python3"
    },
    "language_info": {
      "codemirror_mode": {
        "name": "ipython",
        "version": 3
      },
      "file_extension": ".py",
      "mimetype": "text/x-python",
      "name": "python",
      "nbconvert_exporter": "python",
      "pygments_lexer": "ipython3",
      "version": "3.6.1"
    }
  },
  "nbformat": 4,
  "nbformat_minor": 2
}
