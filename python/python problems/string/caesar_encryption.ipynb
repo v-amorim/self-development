{
  "cells": [
    {
      "cell_type": "code",
      "execution_count": 3,
      "metadata": {},
      "outputs": [
        {
          "name": "stdout",
          "output_type": "stream",
          "text": [
            "\n",
            "['e', 'f', 'g', 'f', 'o', 'e', 'u', 'i', 'f', 'f', 'b', 't', 'u', 'x', 'b', 'm', 'm', 'p', 'g', 'u', 'i', 'f', 'd', 'b', 't', 'u', 'm', 'f']\n",
            "\n"
          ]
        }
      ],
      "source": [
        "\n",
        "\n",
        "\n",
        "# Write a Python program to create a Caesar encryption\n",
        "\n",
        "# Note : In cryptography, a Caesar cipher, also known as Caesar's cipher, the shift cipher, Caesar's code or Caesar shift, is one of the simplest and most widely known encryption techniques.\n",
        "# It is a type of substitution cipher in which each letter in the plaintext is replaced by a letter some fixed number of positions down the alphabet.\n",
        "# For example, with a left shift of 3, D would be replaced by A, E would become B, and so on.\n",
        "# The method is named after Julius Caesar, who used it in his private correspondence.\n",
        "\n",
        "# plaintext:  defend the east wall of the castle\n",
        "# ciphertext: efgfoe uif fbtu xbmm pg uif dbtumf\n",
        "\n",
        "def caesar_encrypt(realText, step):\n",
        "    outText = []\n",
        "    cryptText = []\n",
        "\n",
        "    uppercase = ['A', 'B', 'C', 'D', 'E', 'F', 'G', 'H', 'I', 'J', 'K', 'L',\n",
        "                 'M', 'N', 'O', 'P', 'Q', 'R', 'S', 'T', 'U', 'V', 'W', 'X', 'Y', 'Z']\n",
        "    lowercase = ['a', 'b', 'c', 'd', 'e', 'f', 'g', 'h', 'i', 'j', 'k', 'l',\n",
        "                 'm', 'n', 'o', 'p', 'q', 'r', 's', 't', 'u', 'v', 'w', 'x', 'y', 'z']\n",
        "\n",
        "    for eachLetter in realText:\n",
        "        if eachLetter in uppercase:\n",
        "            index = uppercase.index(eachLetter)\n",
        "            crypting = (index + step) % 26\n",
        "            cryptText.append(crypting)\n",
        "            newLetter = uppercase[crypting]\n",
        "            outText.append(newLetter)\n",
        "        elif eachLetter in lowercase:\n",
        "            index = lowercase.index(eachLetter)\n",
        "            crypting = (index + step) % 26\n",
        "            cryptText.append(crypting)\n",
        "            newLetter = lowercase[crypting]\n",
        "            outText.append(newLetter)\n",
        "    return outText\n",
        "\n",
        "\n",
        "code = caesar_encrypt('defend the east wall of the castle', 1)\n",
        "print()\n",
        "print(code)\n",
        "print()"
      ]
    }
  ],
  "metadata": {
    "kernelspec": {
      "display_name": "Python 2",
      "language": "python",
      "name": "python2"
    },
    "language_info": {
      "codemirror_mode": {
        "name": "ipython",
        "version": 2
      },
      "file_extension": ".py",
      "mimetype": "text/x-python",
      "name": "python",
      "nbconvert_exporter": "python",
      "pygments_lexer": "ipython2",
      "version": "2.7.13"
    }
  },
  "nbformat": 4,
  "nbformat_minor": 2
}
