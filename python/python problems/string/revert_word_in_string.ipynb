{
  "cells": [
    {
      "cell_type": "markdown",
      "metadata": {},
      "source": [
        "### Challenge\n",
        "\n",
        "Write a Python code to reverse the order of words in a string, by using only string methods.\n",
        "\n",
        "### Examples\n",
        "\n",
        "Input:\n",
        "\n",
        "```python\n",
        "'The quick brown fox jumps over the lazy dog.'\n",
        "shift = 1\n",
        "```\n",
        "\n",
        "Output:\n",
        "\n",
        "```python\n",
        "'dog. lazy the over jumps fox brown quick The '\n",
        "```\n"
      ]
    },
    {
      "cell_type": "code",
      "execution_count": null,
      "metadata": {},
      "outputs": [],
      "source": []
    },
    {
      "cell_type": "markdown",
      "metadata": {},
      "source": [
        "### ↓ tanpham solution ↓\n",
        "\n",
        "<br><br><br><br><br><br><br><br><br><br><br><br><br><br><br>\n",
        "<br><br><br><br><br><br><br><br><br><br><br><br><br><br><br>\n",
        "<br><br><br><br><br><br><br><br><br><br><br><br><br><br><br>\n"
      ]
    },
    {
      "cell_type": "code",
      "execution_count": null,
      "metadata": {},
      "outputs": [],
      "source": [
        "def reverse_string_words(text):\n",
        "    for line in text.split('\\n'):\n",
        "        return (' '.join(line.split()[::-1]))\n",
        "\n",
        "\n",
        "print(reverse_string_words(\"The quick brown fox jumps over the lazy dog.\"))\n",
        "print(reverse_string_words(\"Python Exercises.\"))"
      ]
    }
  ],
  "metadata": {
    "kernelspec": {
      "display_name": "Python 3",
      "language": "python",
      "name": "python3"
    },
    "language_info": {
      "codemirror_mode": {
        "name": "ipython",
        "version": 3
      },
      "file_extension": ".py",
      "mimetype": "text/x-python",
      "name": "python",
      "nbconvert_exporter": "python",
      "pygments_lexer": "ipython3",
      "version": "3.6.1"
    }
  },
  "nbformat": 4,
  "nbformat_minor": 2
}
