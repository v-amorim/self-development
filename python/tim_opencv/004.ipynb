{
 "cells": [
  {
   "attachments": {},
   "cell_type": "markdown",
   "metadata": {},
   "source": [
    "Tutorial using this playlist\n",
    "\n",
    "https://www.youtube.com/playlist?list=PLzMcBGfZo4-lUA8uGjeXhBUUzPYc6vZRn\n"
   ]
  },
  {
   "cell_type": "code",
   "execution_count": 1,
   "metadata": {},
   "outputs": [],
   "source": [
    "import cv2\n"
   ]
  },
  {
   "cell_type": "code",
   "execution_count": 2,
   "metadata": {},
   "outputs": [],
   "source": [
    "def run(function):\n",
    "    camera = cv2.VideoCapture(0)\n",
    "\n",
    "    while True:\n",
    "        _, frame = camera.read()\n",
    "\n",
    "        function(frame)\n",
    "\n",
    "        if cv2.waitKey(1) & 0xFF == ord('q'):\n",
    "            break\n",
    "\n",
    "    camera.release()\n",
    "    cv2.destroyAllWindows()\n"
   ]
  },
  {
   "cell_type": "code",
   "execution_count": 3,
   "metadata": {},
   "outputs": [
    {
     "ename": "AttributeError",
     "evalue": "'NoneType' object has no attribute 'shape'",
     "output_type": "error",
     "traceback": [
      "\u001b[1;31m---------------------------------------------------------------------------\u001b[0m",
      "\u001b[1;31mAttributeError\u001b[0m                            Traceback (most recent call last)",
      "Cell \u001b[1;32mIn [3], line 16\u001b[0m\n\u001b[0;32m      9\u001b[0m     img \u001b[39m=\u001b[39m cv2\u001b[39m.\u001b[39mputText(img, \u001b[39m'\u001b[39m\u001b[39mHello World!\u001b[39m\u001b[39m'\u001b[39m, (width \u001b[39m/\u001b[39m\u001b[39m/\u001b[39m \u001b[39m4\u001b[39m, height \u001b[39m-\u001b[39m \u001b[39m10\u001b[39m),\n\u001b[0;32m     10\u001b[0m                       fontFace\u001b[39m=\u001b[39mcv2\u001b[39m.\u001b[39mFONT_HERSHEY_SIMPLEX, fontScale\u001b[39m=\u001b[39m\u001b[39m2\u001b[39m,\n\u001b[0;32m     11\u001b[0m                       color\u001b[39m=\u001b[39m(\u001b[39m255\u001b[39m, \u001b[39m0\u001b[39m, \u001b[39m255\u001b[39m), thickness\u001b[39m=\u001b[39m\u001b[39m3\u001b[39m, lineType\u001b[39m=\u001b[39mcv2\u001b[39m.\u001b[39mLINE_AA)\n\u001b[0;32m     13\u001b[0m     cv2\u001b[39m.\u001b[39mimshow(\u001b[39m'\u001b[39m\u001b[39mVideo\u001b[39m\u001b[39m'\u001b[39m, frame)\n\u001b[1;32m---> 16\u001b[0m run(camera_function1)\n",
      "Cell \u001b[1;32mIn [2], line 7\u001b[0m, in \u001b[0;36mrun\u001b[1;34m(function)\u001b[0m\n\u001b[0;32m      4\u001b[0m \u001b[39mwhile\u001b[39;00m \u001b[39mTrue\u001b[39;00m:\n\u001b[0;32m      5\u001b[0m     _, frame \u001b[39m=\u001b[39m camera\u001b[39m.\u001b[39mread()\n\u001b[1;32m----> 7\u001b[0m     function(frame)\n\u001b[0;32m      9\u001b[0m     \u001b[39mif\u001b[39;00m cv2\u001b[39m.\u001b[39mwaitKey(\u001b[39m1\u001b[39m) \u001b[39m&\u001b[39m \u001b[39m0xFF\u001b[39m \u001b[39m==\u001b[39m \u001b[39mord\u001b[39m(\u001b[39m'\u001b[39m\u001b[39mq\u001b[39m\u001b[39m'\u001b[39m):\n\u001b[0;32m     10\u001b[0m         \u001b[39mbreak\u001b[39;00m\n",
      "Cell \u001b[1;32mIn [3], line 2\u001b[0m, in \u001b[0;36mcamera_function1\u001b[1;34m(frame)\u001b[0m\n\u001b[0;32m      1\u001b[0m \u001b[39mdef\u001b[39;00m \u001b[39mcamera_function1\u001b[39m(frame):\n\u001b[1;32m----> 2\u001b[0m     height \u001b[39m=\u001b[39m frame\u001b[39m.\u001b[39;49mshape[\u001b[39m0\u001b[39m]\n\u001b[0;32m      3\u001b[0m     width \u001b[39m=\u001b[39m frame\u001b[39m.\u001b[39mshape[\u001b[39m1\u001b[39m]\n\u001b[0;32m      5\u001b[0m     img \u001b[39m=\u001b[39m cv2\u001b[39m.\u001b[39mline(frame, (\u001b[39m0\u001b[39m, \u001b[39m0\u001b[39m), (width, height), (\u001b[39m255\u001b[39m, \u001b[39m0\u001b[39m, \u001b[39m0\u001b[39m), \u001b[39m16\u001b[39m, cv2\u001b[39m.\u001b[39mLINE_AA)\n",
      "\u001b[1;31mAttributeError\u001b[0m: 'NoneType' object has no attribute 'shape'"
     ]
    }
   ],
   "source": [
    "def camera_function1(frame):\n",
    "    height = frame.shape[0]\n",
    "    width = frame.shape[1]\n",
    "\n",
    "    img = cv2.line(frame, (0, 0), (width, height), (255, 0, 0), 16, cv2.LINE_AA)\n",
    "    img = cv2.line(img, (0, height), (width, 0), (0, 255, 0), 16, cv2.LINE_AA)\n",
    "    img = cv2.rectangle(img, (width // 4, height // 4), (width * 3 // 4, height * 3 // 4), (0, 0, 255), 8, cv2.LINE_AA)\n",
    "    img = cv2.circle(img, (width // 2, height // 2), width // 4, (255, 255, 0), 4, cv2.LINE_AA)\n",
    "    img = cv2.putText(img, 'Hello World!', (width // 4, height - 10),\n",
    "                      fontFace=cv2.FONT_HERSHEY_SIMPLEX, fontScale=2,\n",
    "                      color=(255, 0, 255), thickness=3, lineType=cv2.LINE_AA)\n",
    "\n",
    "    cv2.imshow('Video', frame)\n",
    "\n",
    "\n",
    "run(camera_function1)\n"
   ]
  }
 ],
 "metadata": {
  "kernelspec": {
   "display_name": "Python 3",
   "language": "python",
   "name": "python3"
  },
  "language_info": {
   "codemirror_mode": {
    "name": "ipython",
    "version": 3
   },
   "file_extension": ".py",
   "mimetype": "text/x-python",
   "name": "python",
   "nbconvert_exporter": "python",
   "pygments_lexer": "ipython3",
   "version": "3.9.13"
  },
  "orig_nbformat": 4,
  "vscode": {
   "interpreter": {
    "hash": "6f855776b237e025a3a87c2d6d7d34904c19210088389d174762ed2c8a99cf13"
   }
  }
 },
 "nbformat": 4,
 "nbformat_minor": 2
}
