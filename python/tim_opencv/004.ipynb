{
 "cells": [
  {
   "attachments": {},
   "cell_type": "markdown",
   "metadata": {},
   "source": [
    "Tutorial using this playlist\n",
    "\n",
    "https://www.youtube.com/playlist?list=PLzMcBGfZo4-lUA8uGjeXhBUUzPYc6vZRn\n"
   ]
  },
  {
   "cell_type": "code",
   "execution_count": 1,
   "metadata": {},
   "outputs": [],
   "source": [
    "import cv2\n"
   ]
  },
  {
   "cell_type": "code",
   "execution_count": 2,
   "metadata": {},
   "outputs": [],
   "source": [
    "def run(function):\n",
    "    camera = cv2.VideoCapture(0)\n",
    "\n",
    "    while True:\n",
    "        _, frame = camera.read()\n",
    "\n",
    "        function(frame)\n",
    "\n",
    "        if cv2.waitKey(1) & 0xFF == ord('q'):\n",
    "            break\n",
    "\n",
    "    camera.release()\n",
    "    cv2.destroyAllWindows()\n"
   ]
  },
  {
   "cell_type": "code",
   "execution_count": 3,
   "metadata": {},
   "outputs": [],
   "source": [
    "def camera_function1(frame):\n",
    "    height = frame.shape[0]\n",
    "    width = frame.shape[1]\n",
    "\n",
    "    img = cv2.line(frame, (0, 0), (width, height), (255, 0, 0), 16, cv2.LINE_AA)\n",
    "    img = cv2.line(img, (0, height), (width, 0), (0, 255, 0), 16, cv2.LINE_AA)\n",
    "    img = cv2.rectangle(img, (width // 4, height // 4), (width * 3 // 4, height * 3 // 4), (0, 0, 255), 8, cv2.LINE_AA)\n",
    "    img = cv2.circle(img, (width // 2, height // 2), width // 4, (255, 255, 0), 4, cv2.LINE_AA)\n",
    "    img = cv2.putText(img, 'Hello World!', (width // 4, height - 10),\n",
    "                      fontFace=cv2.FONT_HERSHEY_SIMPLEX, fontScale=2,\n",
    "                      color=(255, 0, 255), thickness=3, lineType=cv2.LINE_AA)\n",
    "\n",
    "    cv2.imshow('Video', frame)\n",
    "\n",
    "\n",
    "run(camera_function1)\n"
   ]
  }
 ],
 "metadata": {
  "kernelspec": {
   "display_name": "Python 3",
   "language": "python",
   "name": "python3"
  },
  "language_info": {
   "codemirror_mode": {
    "name": "ipython",
    "version": 3
   },
   "file_extension": ".py",
   "mimetype": "text/x-python",
   "name": "python",
   "nbconvert_exporter": "python",
   "pygments_lexer": "ipython3",
   "version": "3.11.2"
  },
  "orig_nbformat": 4,
  "vscode": {
   "interpreter": {
    "hash": "fd7485783ec2f5cc6883b6f92058aaad4b0aa2d373cff7841c4468d84b5f909a"
   }
  }
 },
 "nbformat": 4,
 "nbformat_minor": 2
}
