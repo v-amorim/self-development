{
 "cells": [
  {
   "attachments": {},
   "cell_type": "markdown",
   "metadata": {},
   "source": [
    "Tutorial using this playlist\n",
    "\n",
    "https://www.youtube.com/playlist?list=PLzMcBGfZo4-lUA8uGjeXhBUUzPYc6vZRn\n"
   ]
  },
  {
   "cell_type": "code",
   "execution_count": 1,
   "metadata": {},
   "outputs": [],
   "source": [
    "import numpy as np\n",
    "import cv2\n"
   ]
  },
  {
   "cell_type": "code",
   "execution_count": 6,
   "metadata": {},
   "outputs": [],
   "source": [
    "def run(function):\n",
    "    camera = cv2.VideoCapture(0)\n",
    "\n",
    "    while True:\n",
    "        _, frame = camera.read()\n",
    "\n",
    "        function(frame)\n",
    "\n",
    "        if cv2.waitKey(1) & 0xFF == ord('q'):\n",
    "            break\n",
    "\n",
    "    camera.release()\n",
    "    cv2.destroyAllWindows()\n"
   ]
  },
  {
   "cell_type": "code",
   "execution_count": 7,
   "metadata": {},
   "outputs": [
    {
     "ename": "AttributeError",
     "evalue": "'NoneType' object has no attribute 'shape'",
     "output_type": "error",
     "traceback": [
      "\u001b[1;31m---------------------------------------------------------------------------\u001b[0m",
      "\u001b[1;31mAttributeError\u001b[0m                            Traceback (most recent call last)",
      "Cell \u001b[1;32mIn [7], line 14\u001b[0m\n\u001b[0;32m      9\u001b[0m     result \u001b[39m=\u001b[39m cv2\u001b[39m.\u001b[39mbitwise_and(frame, frame, mask\u001b[39m=\u001b[39mmask)\n\u001b[0;32m     11\u001b[0m     cv2\u001b[39m.\u001b[39mimshow(\u001b[39m'\u001b[39m\u001b[39mVideo\u001b[39m\u001b[39m'\u001b[39m, result)\n\u001b[1;32m---> 14\u001b[0m run(camera_function1)\n",
      "Cell \u001b[1;32mIn [6], line 7\u001b[0m, in \u001b[0;36mrun\u001b[1;34m(function)\u001b[0m\n\u001b[0;32m      4\u001b[0m \u001b[39mwhile\u001b[39;00m \u001b[39mTrue\u001b[39;00m:\n\u001b[0;32m      5\u001b[0m     _, frame \u001b[39m=\u001b[39m camera\u001b[39m.\u001b[39mread()\n\u001b[1;32m----> 7\u001b[0m     function(frame)\n\u001b[0;32m      9\u001b[0m     \u001b[39mif\u001b[39;00m cv2\u001b[39m.\u001b[39mwaitKey(\u001b[39m1\u001b[39m) \u001b[39m&\u001b[39m \u001b[39m0xFF\u001b[39m \u001b[39m==\u001b[39m \u001b[39mord\u001b[39m(\u001b[39m'\u001b[39m\u001b[39mq\u001b[39m\u001b[39m'\u001b[39m):\n\u001b[0;32m     10\u001b[0m         \u001b[39mbreak\u001b[39;00m\n",
      "Cell \u001b[1;32mIn [7], line 2\u001b[0m, in \u001b[0;36mcamera_function1\u001b[1;34m(frame)\u001b[0m\n\u001b[0;32m      1\u001b[0m \u001b[39mdef\u001b[39;00m \u001b[39mcamera_function1\u001b[39m(frame):\n\u001b[1;32m----> 2\u001b[0m     height \u001b[39m=\u001b[39m frame\u001b[39m.\u001b[39;49mshape[\u001b[39m0\u001b[39m]\n\u001b[0;32m      3\u001b[0m     width \u001b[39m=\u001b[39m frame\u001b[39m.\u001b[39mshape[\u001b[39m1\u001b[39m]\n\u001b[0;32m      5\u001b[0m     hsv \u001b[39m=\u001b[39m cv2\u001b[39m.\u001b[39mcvtColor(frame, cv2\u001b[39m.\u001b[39mCOLOR_BGR2HSV)\n",
      "\u001b[1;31mAttributeError\u001b[0m: 'NoneType' object has no attribute 'shape'"
     ]
    }
   ],
   "source": [
    "def camera_function1(frame):\n",
    "    height = frame.shape[0]\n",
    "    width = frame.shape[1]\n",
    "\n",
    "    hsv = cv2.cvtColor(frame, cv2.COLOR_BGR2HSV)\n",
    "    lower_blue = np.array([110, 50, 50])\n",
    "    upper_blue = np.array([130, 255, 255])\n",
    "    mask = cv2.inRange(hsv, lower_blue, upper_blue)\n",
    "    result = cv2.bitwise_and(frame, frame, mask=mask)\n",
    "\n",
    "    cv2.imshow('Video', result)\n",
    "\n",
    "\n",
    "run(camera_function1)\n"
   ]
  }
 ],
 "metadata": {
  "kernelspec": {
   "display_name": "Python 3",
   "language": "python",
   "name": "python3"
  },
  "language_info": {
   "codemirror_mode": {
    "name": "ipython",
    "version": 3
   },
   "file_extension": ".py",
   "mimetype": "text/x-python",
   "name": "python",
   "nbconvert_exporter": "python",
   "pygments_lexer": "ipython3",
   "version": "3.9.13"
  },
  "orig_nbformat": 4,
  "vscode": {
   "interpreter": {
    "hash": "6f855776b237e025a3a87c2d6d7d34904c19210088389d174762ed2c8a99cf13"
   }
  }
 },
 "nbformat": 4,
 "nbformat_minor": 2
}
