{
 "cells": [
  {
   "cell_type": "markdown",
   "metadata": {},
   "source": [
    "### Explanation:\n",
    "\n",
    "1. **Define `rename_and_move_subtitles` function**:\n",
    "   - Iterate through each subfolder in the `base_dir`.\n",
    "   - Check if the file \"2_English.srt\" exists in the subfolder.\n",
    "   - If it exists, rename it to the name of the subfolder and move it to the `subs_dir`.\n",
    "1. **Set `base_directory` and `subs_directory`** to the path you provided.\n",
    "1. **Call the `rename_and_move_subtitles` function** with the specified directories.\n",
    "\n",
    "This script assumes that the \"Subs\" folder is both the base directory containing subfolders and the destination for the renamed subtitle files. Adjust the paths as needed if this assumption is incorrect.\n"
   ]
  },
  {
   "cell_type": "code",
   "execution_count": 1,
   "metadata": {},
   "outputs": [],
   "source": [
    "import os\n",
    "import shutil\n",
    "from pathlib import Path\n",
    "\n",
    "\n",
    "def rename_and_move_subtitles(base_dir, subs_dir):\n",
    "    for root, dirs, _ in os.walk(base_dir):\n",
    "        for dir_name in dirs:\n",
    "            subfolder_path = Path(root) / dir_name\n",
    "            srt_file_path = Path(subfolder_path) / \"2_English.srt\"\n",
    "\n",
    "            if Path(srt_file_path).exists():\n",
    "                new_file_name = f\"{dir_name}.srt\"\n",
    "                new_file_path = Path(subs_dir) / new_file_name\n",
    "\n",
    "                shutil.move(srt_file_path, new_file_path)\n",
    "                print(f\"Renamed and moved: {srt_file_path} -> {new_file_path}\")\n",
    "\n",
    "\n",
    "base_directory = \"S:\\\\Downloads\\\\SERIES\\\\Subs\"\n",
    "subs_directory = \"S:\\\\Downloads\\\\SERIES\\\\Subs\"\n",
    "\n",
    "rename_and_move_subtitles(base_directory, subs_directory)"
   ]
  }
 ],
 "metadata": {
  "kernelspec": {
   "display_name": "Python 3",
   "language": "python",
   "name": "python3"
  },
  "language_info": {
   "codemirror_mode": {
    "name": "ipython",
    "version": 3
   },
   "file_extension": ".py",
   "mimetype": "text/x-python",
   "name": "python",
   "nbconvert_exporter": "python",
   "pygments_lexer": "ipython3",
   "version": "3.12.2"
  }
 },
 "nbformat": 4,
 "nbformat_minor": 2
}
