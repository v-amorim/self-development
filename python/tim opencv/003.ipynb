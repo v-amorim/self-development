{
 "cells": [
  {
   "attachments": {},
   "cell_type": "markdown",
   "metadata": {},
   "source": [
    "Tutorial using this playlist\n",
    "\n",
    "https://www.youtube.com/playlist?list=PLzMcBGfZo4-lUA8uGjeXhBUUzPYc6vZRn\n"
   ]
  },
  {
   "cell_type": "code",
   "execution_count": 5,
   "metadata": {},
   "outputs": [],
   "source": [
    "import numpy as np\n",
    "import cv2\n"
   ]
  },
  {
   "cell_type": "code",
   "execution_count": 6,
   "metadata": {},
   "outputs": [],
   "source": [
    "def run(function):\n",
    "    camera = cv2.VideoCapture(0)\n",
    "\n",
    "    while True:\n",
    "        _, frame = camera.read()\n",
    "\n",
    "        function(frame)\n",
    "\n",
    "        if cv2.waitKey(1) & 0xFF == ord('q'):\n",
    "            break\n",
    "\n",
    "    camera.release()\n",
    "    cv2.destroyAllWindows()\n"
   ]
  },
  {
   "cell_type": "code",
   "execution_count": 7,
   "metadata": {},
   "outputs": [],
   "source": [
    "def camera_function1(frame):\n",
    "    cv2.imshow('Video', frame)\n",
    "\n",
    "\n",
    "run(camera_function1)\n"
   ]
  },
  {
   "cell_type": "code",
   "execution_count": 8,
   "metadata": {},
   "outputs": [],
   "source": [
    "def camera_function2(frame):\n",
    "    image = np.zeros(frame.shape, np.uint8)\n",
    "    height = frame.shape[0]\n",
    "    width = frame.shape[1]\n",
    "\n",
    "    smaller_frame = cv2.resize(frame, (0, 0), fx=0.5, fy=0.5)\n",
    "    image[:height // 2, :width // 2] = smaller_frame\n",
    "    image[:height // 2, width // 2:] = cv2.flip(smaller_frame, 1)\n",
    "\n",
    "    image[height // 2:, :width // 2] = cv2.flip(smaller_frame, 0)\n",
    "    image[height // 2:, width // 2:] = cv2.flip(smaller_frame, -1)\n",
    "\n",
    "    cv2.imshow('Video', image)\n",
    "\n",
    "\n",
    "run(camera_function2)\n"
   ]
  }
 ],
 "metadata": {
  "kernelspec": {
   "display_name": "Python 3",
   "language": "python",
   "name": "python3"
  },
  "language_info": {
   "codemirror_mode": {
    "name": "ipython",
    "version": 3
   },
   "file_extension": ".py",
   "mimetype": "text/x-python",
   "name": "python",
   "nbconvert_exporter": "python",
   "pygments_lexer": "ipython3",
   "version": "3.9.13"
  },
  "orig_nbformat": 4,
  "vscode": {
   "interpreter": {
    "hash": "180ad02f43ac78e13a91547a545a5d8bc6162dc1c6a849609a099f68294a2472"
   }
  }
 },
 "nbformat": 4,
 "nbformat_minor": 2
}
