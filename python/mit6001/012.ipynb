{
 "cells": [
  {
   "cell_type": "code",
   "execution_count": 1,
   "metadata": {},
   "outputs": [
    {
     "name": "stdout",
     "output_type": "stream",
     "text": [
      "15.205295600000001\n",
      "15.205295600000001\n",
      "32.169881600000004\n"
     ]
    }
   ],
   "source": [
    "def bubble_sort(L):\n",
    "    swap = False\n",
    "    while not swap:\n",
    "        print('bubble sort: ' + str(L))\n",
    "        swap = True\n",
    "        for j in range(1, len(L)):\n",
    "            if L[j - 1] > L[j]:\n",
    "                swap = False\n",
    "                temp = L[j]\n",
    "                L[j] = L[j - 1]\n",
    "                L[j - 1] = temp\n",
    "\n",
    "\n",
    "testList = [1, 3, 5, 7, 2, 6, 25, 18, 13]\n",
    "\n",
    "print(bubble_sort(testList))\n",
    "print(testList)\n"
   ]
  },
  {
   "cell_type": "code",
   "execution_count": null,
   "metadata": {},
   "outputs": [],
   "source": [
    "def selection_sort(L):\n",
    "    suffixSt = 0\n",
    "    while suffixSt != len(L):\n",
    "        print('selection sort: ' + str(L))\n",
    "        for i in range(suffixSt, len(L)):\n",
    "            if L[i] < L[suffixSt]:\n",
    "                L[suffixSt], L[i] = L[i], L[suffixSt]\n",
    "        suffixSt += 1\n",
    "\n",
    "\n",
    "testList = [1, 3, 5, 7, 2, 6, 25, 18, 13]\n",
    "\n",
    "print(selection_sort(testList))\n",
    "print(testList)\n"
   ]
  },
  {
   "cell_type": "code",
   "execution_count": null,
   "metadata": {},
   "outputs": [],
   "source": [
    "def merge(left, right):\n",
    "    result = []\n",
    "    i, j = 0, 0\n",
    "    while i < len(left) and j < len(right):\n",
    "        if left[i] < right[j]:\n",
    "            result.append(left[i])\n",
    "            i += 1\n",
    "        else:\n",
    "            result.append(right[j])\n",
    "            j += 1\n",
    "    while (i < len(left)):\n",
    "        result.append(left[i])\n",
    "        i += 1\n",
    "    while (j < len(right)):\n",
    "        result.append(right[j])\n",
    "        j += 1\n",
    "    print('merge: ' + str(left) + '&' + str(right) + ' to ' + str(result))\n",
    "    return result\n",
    "\n",
    "\n",
    "def merge_sort(L):\n",
    "    print('merge sort: ' + str(L))\n",
    "    if len(L) < 2:\n",
    "        return L[:]\n",
    "    else:\n",
    "        middle = len(L) // 2\n",
    "        left = merge_sort(L[:middle])\n",
    "        right = merge_sort(L[middle:])\n",
    "        return merge(left, right)\n",
    "\n",
    "\n",
    "testList = [1, 3, 5, 7, 2, 6, 25, 18, 13]\n",
    "\n",
    "print(merge_sort(testList))\n"
   ]
  }
 ],
 "metadata": {
  "kernelspec": {
   "display_name": "Python 3",
   "language": "python",
   "name": "python3"
  },
  "language_info": {
   "codemirror_mode": {
    "name": "ipython",
    "version": 3
   },
   "file_extension": ".py",
   "mimetype": "text/x-python",
   "name": "python",
   "nbconvert_exporter": "python",
   "pygments_lexer": "ipython3",
   "version": "3.9.13"
  },
  "orig_nbformat": 4
 },
 "nbformat": 4,
 "nbformat_minor": 2
}
