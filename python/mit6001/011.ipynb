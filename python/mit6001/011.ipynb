{
 "cells": [
  {
   "cell_type": "code",
   "execution_count": 1,
   "metadata": {},
   "outputs": [
    {
     "name": "stdout",
     "output_type": "stream",
     "text": [
      "15.205295600000001\n",
      "15.205295600000001\n",
      "32.169881600000004\n"
     ]
    }
   ],
   "source": [
    "def bisect_search2(L, e):\n",
    "    def bisect_search_helper(L, e, low, high):\n",
    "        print('low: ' + str(low) + '; high: ' + str(high))  # added to visualize\n",
    "        if high == low:\n",
    "            return L[low] == e\n",
    "        mid = (low + high) // 2\n",
    "        if L[mid] == e:\n",
    "            return True\n",
    "        elif L[mid] > e:\n",
    "            if low == mid:  # nothing left to search\n",
    "                return False\n",
    "            else:\n",
    "                return bisect_search_helper(L, e, low, mid - 1)\n",
    "        else:\n",
    "            return bisect_search_helper(L, e, mid + 1, high)\n",
    "    if len(L) == 0:\n",
    "        return False\n",
    "    else:\n",
    "        return bisect_search_helper(L, e, 0, len(L) - 1)\n",
    "\n",
    "\n",
    "testList = []\n",
    "for i in range(100):\n",
    "    testList.append(i)\n",
    "\n",
    "print(bisect_search2(testList, 76))\n"
   ]
  },
  {
   "cell_type": "code",
   "execution_count": null,
   "metadata": {},
   "outputs": [],
   "source": [
    "def genSubsets(L):\n",
    "    res = []\n",
    "    if len(L) == 0:\n",
    "        return [[]]  # list of empty list\n",
    "    smaller = genSubsets(L[:-1])  # all subsets without last element\n",
    "    extra = L[-1:]  # create a list of just last element\n",
    "    new = []\n",
    "    for small in smaller:\n",
    "        new.append(small + extra)  # for all smaller solutions, add one with last element\n",
    "    return smaller + new  # combine those with last element and those without\n",
    "\n",
    "\n",
    "testSet = [1, 2, 3, 4]\n",
    "print(genSubsets(testSet))\n"
   ]
  }
 ],
 "metadata": {
  "kernelspec": {
   "display_name": "Python 3",
   "language": "python",
   "name": "python3"
  },
  "language_info": {
   "codemirror_mode": {
    "name": "ipython",
    "version": 3
   },
   "file_extension": ".py",
   "mimetype": "text/x-python",
   "name": "python",
   "nbconvert_exporter": "python",
   "pygments_lexer": "ipython3",
   "version": "3.9.13"
  },
  "orig_nbformat": 4
 },
 "nbformat": 4,
 "nbformat_minor": 2
}
