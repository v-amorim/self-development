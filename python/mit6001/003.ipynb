{
 "cells": [
  {
   "cell_type": "code",
   "execution_count": 1,
   "metadata": {},
   "outputs": [],
   "source": [
    "####################\n",
    "# EXAMPLE: for loops over strings\n",
    "####################\n",
    "s = \"demo loops\"\n",
    "for index in range(len(s)):\n",
    "    if s[index] == 'i' or s[index] == 'u':\n",
    "        print(\"There is an i or u\")\n",
    "\n",
    "for char in s:\n",
    "    if char == 'i' or char == 'u':\n",
    "        print(\"There is an i or u\")\n"
   ]
  },
  {
   "cell_type": "code",
   "execution_count": null,
   "metadata": {},
   "outputs": [],
   "source": [
    "####################\n",
    "# EXAMPLE: while loops and strings\n",
    "# CHALLENGE: rewrite while loop with a for loop\n",
    "####################\n",
    "an_letters = \"aefhilmnorsxAEFHILMNORSX\"\n",
    "word = input(\"I will cheer for you! Enter a word: \")\n",
    "times = int(input(\"Enthusiasm level (1-10): \"))\n",
    "\n",
    "i = 0\n",
    "while i < len(word):\n",
    "    char = word[i]\n",
    "    if char in an_letters:\n",
    "        print(\"Give me an \" + char + \"! \" + char)\n",
    "    else:\n",
    "        print(\"Give me a  \" + char + \"! \" + char)\n",
    "    i += 1\n",
    "print(\"What does that spell?\")\n",
    "for i in range(times):\n",
    "    print(word, \"!!!\")\n"
   ]
  },
  {
   "cell_type": "code",
   "execution_count": null,
   "metadata": {},
   "outputs": [],
   "source": [
    "####################\n",
    "# EXAMPLE: perfect cube\n",
    "####################\n",
    "cube = 27\n",
    "cube = 8120601\n",
    "for guess in range(cube + 1):\n",
    "    if guess**3 == cube:\n",
    "        print(\"Cube root of\", cube, \"is\", guess)\n",
    "        # loops keeps going even after found the cube root\n"
   ]
  },
  {
   "cell_type": "code",
   "execution_count": null,
   "metadata": {},
   "outputs": [],
   "source": [
    "####################\n",
    "# EXAMPLE: guess and check cube root\n",
    "####################\n",
    "cube = 27\n",
    "cube = 8120601\n",
    "for guess in range(abs(cube) + 1):\n",
    "    # passed all potential cube roots\n",
    "    if guess**3 >= abs(cube):\n",
    "        # no need to keep searching\n",
    "        break\n",
    "if guess**3 != abs(cube):\n",
    "    print(cube, 'is not a perfect cube')\n",
    "else:\n",
    "    if cube < 0:\n",
    "        guess = -guess\n",
    "    print('Cube root of ' + str(cube) + ' is ' + str(guess))\n"
   ]
  },
  {
   "cell_type": "code",
   "execution_count": null,
   "metadata": {},
   "outputs": [],
   "source": [
    "####################\n",
    "# EXAMPLE: approximate cube root\n",
    "####################\n",
    "cube = 27\n",
    "cube = 8120601\n",
    "cube = 10000\n",
    "epsilon = 0.1\n",
    "guess = 0.0\n",
    "increment = 0.01\n",
    "num_guesses = 0\n",
    "# look for close enough answer and make sure\n",
    "# didn't accidentally skip the close enough bound\n",
    "while abs(guess**3 - cube) >= epsilon and guess <= cube:\n",
    "    guess += increment\n",
    "    num_guesses += 1\n",
    "print('num_guesses =', num_guesses)\n",
    "if abs(guess**3 - cube) >= epsilon:\n",
    "    print('Failed on cube root of', cube, \"with these parameters.\")\n",
    "else:\n",
    "    print(guess, 'is close to the cube root of', cube)\n"
   ]
  },
  {
   "cell_type": "code",
   "execution_count": null,
   "metadata": {},
   "outputs": [],
   "source": [
    "####################\n",
    "# EXAMPLE: bisection cube root (only positive cubes!)\n",
    "####################\n",
    "cube = 27\n",
    "cube = 8120601\n",
    "# won't work with x < 1 because initial upper bound is less than ans\n",
    "cube = 0.25\n",
    "epsilon = 0.01\n",
    "num_guesses = 0\n",
    "low = 0\n",
    "high = cube\n",
    "guess = (high + low) / 2.0\n",
    "while abs(guess**3 - cube) >= epsilon:\n",
    "    if guess**3 < cube:\n",
    "        # look only in upper half search space\n",
    "        low = guess\n",
    "    else:\n",
    "        # look only in lower half search space\n",
    "        high = guess\n",
    "    # next guess is halfway in search space\n",
    "    guess = (high + low) / 2.0\n",
    "    num_guesses += 1\n",
    "print('num_guesses =', num_guesses)\n",
    "print(guess, 'is close to the cube root of', cube)\n"
   ]
  }
 ],
 "metadata": {
  "kernelspec": {
   "display_name": "Python 3",
   "language": "python",
   "name": "python3"
  },
  "language_info": {
   "codemirror_mode": {
    "name": "ipython",
    "version": 3
   },
   "file_extension": ".py",
   "mimetype": "text/x-python",
   "name": "python",
   "nbconvert_exporter": "python",
   "pygments_lexer": "ipython3",
   "version": "3.9.13"
  },
  "orig_nbformat": 4
 },
 "nbformat": 4,
 "nbformat_minor": 2
}
