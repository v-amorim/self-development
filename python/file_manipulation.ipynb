{
 "cells": [
  {
   "cell_type": "code",
   "execution_count": 9,
   "metadata": {},
   "outputs": [],
   "source": [
    "import os\n",
    "import re\n",
    "import shutil"
   ]
  },
  {
   "cell_type": "code",
   "execution_count": null,
   "metadata": {},
   "outputs": [],
   "source": [
    "def copy_contents_to_destination(source_folders, destination_folder):\n",
    "    # Ensure the destination folder exists\n",
    "    os.makedirs(destination_folder, exist_ok=True)\n",
    "\n",
    "    for source_folder in source_folders:\n",
    "        try:\n",
    "            # Copy the contents of the source folder to the destination folder\n",
    "            for item in os.listdir(source_folder):\n",
    "                source_path = os.path.join(source_folder, item)\n",
    "                destination_path = os.path.join(destination_folder, item)\n",
    "                if os.path.isdir(source_path):\n",
    "                    shutil.copytree(source_path, destination_path, dirs_exist_ok=True)\n",
    "                else:\n",
    "                    shutil.copy2(source_path, destination_path)  # copy2 preserves metadata\n",
    "            print(f\"Contents of {source_folder} successfully pasted to {destination_folder}\")\n",
    "        except shutil.Error as e:\n",
    "            print(f\"Failed to copy contents of {source_folder}: {e}\")\n",
    "        except OSError as e:\n",
    "            print(f\"Failed to copy contents of {source_folder}: {e}\")"
   ]
  },
  {
   "cell_type": "code",
   "execution_count": null,
   "metadata": {},
   "outputs": [],
   "source": [
    "def move_files_to_folder(source_folders, destination_root):\n",
    "    for source_folder in source_folders:\n",
    "        try:\n",
    "            for file_name in os.listdir(source_folder):\n",
    "                source_path = os.path.join(source_folder, file_name)\n",
    "\n",
    "                # Use regular expression to extract text inside brackets\n",
    "                match = re.search(r'\\[([^]]+)\\]', file_name)\n",
    "                if match:\n",
    "                    folder_name = match.group(1)\n",
    "                    destination_folder = os.path.join(destination_root, folder_name)\n",
    "\n",
    "                    # Create the destination folder if it doesn't exist\n",
    "                    os.makedirs(destination_folder, exist_ok=True)\n",
    "\n",
    "                    # Move the file to the destination folder\n",
    "                    destination_path = os.path.join(destination_folder, file_name)\n",
    "                    shutil.move(source_path, destination_path)\n",
    "                    print(f\"File '{file_name}' moved to folder '{folder_name}'\")\n",
    "                else:\n",
    "                    print(f\"No brackets found in file '{file_name}', skipping.\")\n",
    "\n",
    "        except shutil.Error as e:\n",
    "            print(f\"Failed to move files in {source_folder}: {e}\")\n",
    "        except OSError as e:\n",
    "            print(f\"Failed to move files in {source_folder}: {e}\")"
   ]
  },
  {
   "cell_type": "code",
   "execution_count": null,
   "metadata": {},
   "outputs": [],
   "source": [
    "# Usage example\n",
    "# Find source folders in \"E:\\Downloads\\\" that start with \"part\" and paste on \"F:\\Downloads\\Merged\"\n",
    "source_root = r'E:\\Downloads'\n",
    "source_folders = [\n",
    "    os.path.join(source_root, folder)\n",
    "    for folder in os.listdir(source_root) if folder.startswith('part')\n",
    "    and os.path.isdir(os.path.join(source_root, folder))\n",
    "]\n",
    "\n",
    "destination_folder = 'E:\\Downloads\\Merged'\n",
    "\n",
    "copy_contents_to_destination(source_folders, destination_folder)"
   ]
  },
  {
   "cell_type": "code",
   "execution_count": null,
   "metadata": {},
   "outputs": [],
   "source": [
    "# Example usage\n",
    "# Find files in \"F:\\Downloads\\Merged\" that have brackets in their name and move them to a folder with the same name as the text inside the brackets\n",
    "source_folders = [r'F:\\Downloads\\Merged']\n",
    "destination_root = r'F:\\Downloads\\Merged'\n",
    "\n",
    "move_files_to_folder(source_folders, destination_root)"
   ]
  }
 ],
 "metadata": {
  "kernelspec": {
   "display_name": "Python 3",
   "language": "python",
   "name": "python3"
  },
  "language_info": {
   "codemirror_mode": {
    "name": "ipython",
    "version": 3
   },
   "file_extension": ".py",
   "mimetype": "text/x-python",
   "name": "python",
   "nbconvert_exporter": "python",
   "pygments_lexer": "ipython3",
   "version": "3.11.2"
  }
 },
 "nbformat": 4,
 "nbformat_minor": 2
}
